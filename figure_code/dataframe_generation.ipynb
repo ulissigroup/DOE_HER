{
 "cells": [
  {
   "cell_type": "markdown",
   "id": "0708ff53",
   "metadata": {},
   "source": [
    "## dataframe generation\n",
    "generating data used in other plots"
   ]
  },
  {
   "cell_type": "markdown",
   "id": "6bbab641",
   "metadata": {},
   "source": [
    "#### parameters"
   ]
  },
  {
   "cell_type": "code",
   "execution_count": 1,
   "id": "45c0ef10",
   "metadata": {},
   "outputs": [],
   "source": [
    "if \"pbx_E_cutoff\" not in locals():\n",
    "    pbx_E_cutoff = 0.5\n",
    "if \"ads_model\" not in locals():\n",
    "    ads_model = \"gemnet_relax_90\"\n",
    "if \"showfigs\" not in locals():\n",
    "    showfigs = True\n",
    "if showfigs:\n",
    "    from IPython.display import display\n",
    "if \"use_premade\" not in locals():\n",
    "    use_premade = False"
   ]
  },
  {
   "cell_type": "markdown",
   "id": "ab3fb735",
   "metadata": {},
   "source": [
    "#### imports"
   ]
  },
  {
   "cell_type": "code",
   "execution_count": 2,
   "id": "506f09ab",
   "metadata": {},
   "outputs": [],
   "source": [
    "import numpy as np\n",
    "import pandas as pd\n",
    "import sys\n",
    "import os\n",
    "import matplotlib.pyplot as plt\n",
    "from matplotlib.patches import Patch\n",
    "from matplotlib.lines import Line2D\n",
    "import seaborn as sns\n",
    "\n",
    "from DOE_HER import load_data, params\n",
    "\n",
    "from pymatgen.ext.matproj import MPRester\n",
    "from tqdm import tqdm"
   ]
  },
  {
   "cell_type": "code",
   "execution_count": 4,
   "id": "849d2a62",
   "metadata": {},
   "outputs": [],
   "source": [
    "from matplotlib.pyplot import rc\n",
    "\n",
    "rc(\"font\", **{\"family\": \"sans-serif\", \"sans-serif\": [\"Arial\"]})"
   ]
  },
  {
   "cell_type": "code",
   "execution_count": 5,
   "id": "95e3826d",
   "metadata": {},
   "outputs": [],
   "source": [
    "def _unpickle_block(values, placement, ndim):\n",
    "    # Work around a pandas bug\n",
    "\n",
    "    from pandas.core.internals.blocks import new_block\n",
    "\n",
    "    return new_block(values, placement, ndim=ndim)\n",
    "\n",
    "\n",
    "pd._libs.internals._unpickle_block = _unpickle_block"
   ]
  },
  {
   "cell_type": "markdown",
   "id": "5e520541",
   "metadata": {},
   "source": [
    "#### load experimental data"
   ]
  },
  {
   "cell_type": "code",
   "execution_count": 6,
   "id": "bf51efbc",
   "metadata": {
    "scrolled": false
   },
   "outputs": [],
   "source": [
    "exp_df = load_data.experimental_data()  # expt_type='Water', drop_desc=False)"
   ]
  },
  {
   "cell_type": "code",
   "execution_count": 7,
   "id": "e0e09d20",
   "metadata": {},
   "outputs": [],
   "source": [
    "exp_df[\"LogRate\"] = exp_df.MaxRate.apply(np.log)\n",
    "exp_df = exp_df[exp_df.LogRate.apply(np.isfinite)]"
   ]
  },
  {
   "cell_type": "markdown",
   "id": "8ddc6d6e",
   "metadata": {},
   "source": [
    "#### load adsorption data"
   ]
  },
  {
   "cell_type": "code",
   "execution_count": 8,
   "id": "becd6411",
   "metadata": {},
   "outputs": [],
   "source": [
    "lc_ads_df = load_data.adsorption_energies(\n",
    "    min_energy=True\n",
    ")  # .min_adsorption_energies(origin='gemnet_relax_90')"
   ]
  },
  {
   "cell_type": "markdown",
   "id": "292a1f17",
   "metadata": {},
   "source": [
    "#### load stability data"
   ]
  },
  {
   "cell_type": "code",
   "execution_count": 9,
   "id": "218a73f7",
   "metadata": {},
   "outputs": [
    {
     "name": "stderr",
     "output_type": "stream",
     "text": [
      "100%|██████████| 253/253 [00:01<00:00, 241.54it/s]\n"
     ]
    }
   ],
   "source": [
    "PDF_full = load_data.binary_echem_stabilities(\n",
    "    V_range=[\n",
    "        -1.2,\n",
    "    ],\n",
    "    pH_range=[\n",
    "        8.5,\n",
    "    ],\n",
    ")\n",
    "PDF_full[\"Components\"] = PDF_full.chemsys.apply(\n",
    "    lambda x: [(x[0], \"X\") if len(x) == 1 else x][0]\n",
    ")\n",
    "PDF_full[\"mpid\"] = PDF_full.entry_id\n",
    "stab_df = PDF_full[PDF_full.type == \"solid\"].drop(\"type\", axis=1)\n",
    "stab_df = stab_df[stab_df.energy < pbx_E_cutoff]"
   ]
  },
  {
   "cell_type": "markdown",
   "id": "6e61ac4f",
   "metadata": {},
   "source": [
    "#### match mpids with compositions and chosoe best H binding energy for each composition"
   ]
  },
  {
   "cell_type": "code",
   "execution_count": 10,
   "id": "bba0c4ca",
   "metadata": {},
   "outputs": [],
   "source": [
    "comp_stab_df = stab_df.groupby(\"Components\").mpid.aggregate(list)\n",
    "n_mpids = comp_stab_df.apply(len).max()\n",
    "comp_stab_df = pd.DataFrame(\n",
    "    comp_stab_df.tolist(),\n",
    "    columns=[(\"mpid%2i\" % i).replace(\" \", \"_\") for i in range(n_mpids)],\n",
    "    index=comp_stab_df.index,\n",
    ").reset_index()\n",
    "comp_stab_df[\"mat_ct\"] = comp_stab_df.count(axis=1) - 1\n",
    "lc_ads_df = pd.concat(\n",
    "    [\n",
    "        comp_stab_df.merge(\n",
    "            lc_ads_df,\n",
    "            left_on=mpid_col,\n",
    "            right_on=\"mpid\",\n",
    "            how=\"left\",\n",
    "        ).drop(mpid_col, axis=1)\n",
    "        for mpid_col in [c for c in comp_stab_df.columns if \"mpid\" in c]\n",
    "    ]\n",
    ").drop([c for c in comp_stab_df.columns if \"mpid\" in c], axis=1)\n",
    "lc_ads_df = (\n",
    "    lc_ads_df.drop(lc_ads_df.columns[lc_ads_df.isna().all()], axis=1)\n",
    "    .dropna(axis=0)\n",
    "    .reset_index(drop=True)\n",
    ")\n",
    "lc_ads_df[\"miss_mat\"] = lc_ads_df.groupby(\"Components\").mpid.transform(\n",
    "    lambda x: len(np.unique(x)) != lc_ads_df.mat_ct\n",
    ")\n",
    "lc_ads_df = lc_ads_df.drop(\"mat_ct\", axis=1)"
   ]
  },
  {
   "cell_type": "code",
   "execution_count": 11,
   "id": "db71f5c0",
   "metadata": {},
   "outputs": [],
   "source": [
    "def choose_best(x, xopt=-0.24):\n",
    "    x = np.array(x)\n",
    "    x_dist = np.abs(xopt - x)\n",
    "    return x[x_dist == min(x_dist)][0]"
   ]
  },
  {
   "cell_type": "code",
   "execution_count": 12,
   "id": "c6d86250",
   "metadata": {},
   "outputs": [],
   "source": [
    "# lc_ads_df['adsorption_energy_H'] = lc_ads_df.adsorption_energy"
   ]
  },
  {
   "cell_type": "code",
   "execution_count": 13,
   "id": "99579520",
   "metadata": {},
   "outputs": [],
   "source": [
    "stab_ads_df = lc_ads_df[\n",
    "    lc_ads_df.adsorption_energy_H\n",
    "    == lc_ads_df.groupby([\"Components\"]).adsorption_energy_H.transform(choose_best)\n",
    "].reset_index(drop=True)"
   ]
  },
  {
   "cell_type": "markdown",
   "id": "31840b3f",
   "metadata": {},
   "source": [
    "#### Average the LogRate for experiments run at the same composition, then choose the best composition for every metal system"
   ]
  },
  {
   "cell_type": "code",
   "execution_count": 14,
   "id": "a2c3925b",
   "metadata": {},
   "outputs": [],
   "source": [
    "exp_df = (\n",
    "    exp_df.groupby([\"Concentrations\", \"Components\"])\n",
    "    .MaxRate.mean()\n",
    "    .reset_index()\n",
    "    .groupby(\"Components\")\n",
    "    .MaxRate.max()\n",
    "    .reset_index()\n",
    ").merge(stab_ads_df, on=\"Components\")"
   ]
  },
  {
   "cell_type": "code",
   "execution_count": 15,
   "id": "c8b8b077",
   "metadata": {},
   "outputs": [],
   "source": [
    "exp_df[\"has_noble\"] = exp_df.Components.apply(\n",
    "    lambda x: any([xx in params.noble_metals for xx in x])\n",
    ")"
   ]
  },
  {
   "cell_type": "markdown",
   "id": "fc2bc606",
   "metadata": {},
   "source": [
    "#### define functions for plotting"
   ]
  },
  {
   "cell_type": "code",
   "execution_count": 17,
   "id": "d17557fd",
   "metadata": {},
   "outputs": [],
   "source": [
    "def order_materials(EDF_in, comp_col, rate_col, ct_cutoff=5):\n",
    "    if comp_col not in EDF_in.columns:\n",
    "        EDF_in = EDF_in.reset_index()\n",
    "    pure_exp_DF = EDF_in[EDF_in.Components.apply(lambda x: \"X\" in x)].copy()\n",
    "    pure_exp_DF[\"elem\"] = pure_exp_DF.Components.apply(\n",
    "        lambda x: np.array(x)[np.array(x) != \"X\"][0]\n",
    "    )\n",
    "    elem_ordering = (\n",
    "        pure_exp_DF[[\"elem\", rate_col]]\n",
    "        .sort_values(rate_col, ascending=False)\n",
    "        .drop(rate_col, axis=1)\n",
    "        .squeeze()\n",
    "        .values.tolist()\n",
    "    )\n",
    "    elem_counts = (\n",
    "        pd.Series(\n",
    "            [\n",
    "                x\n",
    "                for X in EDF_in[comp_col].apply(list).values.tolist()\n",
    "                for x in X\n",
    "                if x != \"X\"\n",
    "            ]\n",
    "        )\n",
    "        .value_counts()\n",
    "        .reset_index()\n",
    "        .rename({0: \"count\", \"index\": \"elem\"}, axis=1)\n",
    "    )\n",
    "    elem_ordering = [\n",
    "        e\n",
    "        for e in elem_ordering\n",
    "        if e in elem_counts[elem_counts[\"count\"] > ct_cutoff].elem.values.tolist()\n",
    "    ]\n",
    "    return elem_ordering\n",
    "\n",
    "\n",
    "def color_materials(\n",
    "    EDF_in,\n",
    "    elem_ordering=None,\n",
    "    EDF_color=None,\n",
    "    comp_col=\"Components\",\n",
    "    rate_col=\"LogRate\",\n",
    "    elems=None,\n",
    "    activity_quantile_cutoff=0.45,\n",
    "    ct_cutoff=5,\n",
    "    return_order=False,\n",
    "):\n",
    "    if EDF_color is None:\n",
    "        EDF_color = EDF_in.copy()\n",
    "\n",
    "    if elem_ordering is None:\n",
    "        elem_ordering = order_materials(\n",
    "            EDF_color[\n",
    "                EDF_color[rate_col]\n",
    "                > EDF_color[rate_col].quantile(activity_quantile_cutoff)\n",
    "            ],\n",
    "            comp_col=comp_col,\n",
    "            rate_col=rate_col,\n",
    "            ct_cutoff=ct_cutoff,\n",
    "        )\n",
    "        if elems is not None:\n",
    "            elem_ordering = [e for e in elem_ordering if e in elems]\n",
    "\n",
    "    EDF_in[\"color\"] = \"other\"\n",
    "    for elem in elem_ordering:\n",
    "        EDF_in.loc[\n",
    "            (EDF_in.color == \"other\") & (EDF_in.Components.apply(lambda x: elem in x)),\n",
    "            \"color\",\n",
    "        ] = elem\n",
    "    if return_order:\n",
    "        elem_ordering.append(\"other\")\n",
    "        return EDF_in[\"color\"], elem_ordering\n",
    "    return EDF_in[\"color\"]"
   ]
  },
  {
   "cell_type": "code",
   "execution_count": 18,
   "id": "4493ed2f",
   "metadata": {},
   "outputs": [],
   "source": [
    "metal_color_palette = {\n",
    "    \"Au\": \"darkgoldenrod\",\n",
    "    \"Cu\": \"darkorange\",\n",
    "    \"Pd\": \"forestgreen\",\n",
    "    \"Ni\": \"violet\",\n",
    "    \"Pt\": \"grey\",\n",
    "    \"Ag\": \"blue\",\n",
    "    \"other\": \"steelblue\",\n",
    "}"
   ]
  },
  {
   "cell_type": "code",
   "execution_count": 19,
   "id": "712b4a26",
   "metadata": {},
   "outputs": [],
   "source": [
    "dominant_metal, metal_ordering = color_materials(\n",
    "    exp_df.copy(),\n",
    "    elem_ordering=[\"Pt\", \"Pd\", \"Au\", \"Ag\", \"Ni\", \"Cu\", \"other\"],\n",
    "    rate_col=\"MaxRate\",\n",
    "    ct_cutoff=3,\n",
    "    return_order=True,\n",
    "    elems=metal_color_palette.keys(),\n",
    "    activity_quantile_cutoff=0.45,\n",
    ")\n",
    "exp_df[\"dominant_metal\"] = dominant_metal\n",
    "exp_df[\"dominant_metal\"].fillna(\"other\", inplace=True)"
   ]
  },
  {
   "cell_type": "code",
   "execution_count": null,
   "id": "ac0761ae",
   "metadata": {},
   "outputs": [],
   "source": []
  }
 ],
 "metadata": {
  "interpreter": {
   "hash": "d4d1e4263499bec80672ea0156c357c1ee493ec2b1c70f0acce89fc37c4a6abe"
  },
  "kernelspec": {
   "display_name": "Python 3.8.10 ('base')",
   "language": "python",
   "name": "python3"
  },
  "language_info": {
   "codemirror_mode": {
    "name": "ipython",
    "version": 3
   },
   "file_extension": ".py",
   "mimetype": "text/x-python",
   "name": "python",
   "nbconvert_exporter": "python",
   "pygments_lexer": "ipython3",
   "version": "3.8.10"
  }
 },
 "nbformat": 4,
 "nbformat_minor": 5
}
