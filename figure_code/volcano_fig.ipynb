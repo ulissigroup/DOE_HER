{
 "cells": [
  {
   "cell_type": "code",
   "execution_count": 2,
   "id": "1ab0e291",
   "metadata": {},
   "outputs": [
    {
     "name": "stderr",
     "output_type": "stream",
     "text": [
      "100%|██████████| 207/207 [00:00<00:00, 662.80it/s]\n"
     ]
    },
    {
     "name": "stdout",
     "output_type": "stream",
     "text": [
      "2 pourbaix entries could not be analyzed in system pH:8.5|V:-1.2|Ag-Al\n"
     ]
    },
    {
     "name": "stderr",
     "output_type": "stream",
     "text": [
      "100%|██████████| 134/134 [00:00<00:00, 815.96it/s]\n",
      "  1%|          | 3/253 [00:04<06:49,  1.64s/it]"
     ]
    },
    {
     "name": "stdout",
     "output_type": "stream",
     "text": [
      "2 pourbaix entries could not be analyzed in system pH:8.5|V:-1.2|Ag-Au\n"
     ]
    },
    {
     "name": "stderr",
     "output_type": "stream",
     "text": [
      "100%|██████████| 168/168 [00:00<00:00, 928.53it/s]\n",
      "  2%|▏         | 4/253 [00:06<06:27,  1.55s/it]"
     ]
    },
    {
     "name": "stdout",
     "output_type": "stream",
     "text": [
      "1 pourbaix entries could not be analyzed in system pH:8.5|V:-1.2|Ag-Bi\n"
     ]
    },
    {
     "name": "stderr",
     "output_type": "stream",
     "text": [
      "100%|██████████| 171/171 [00:00<00:00, 927.94it/s]\n",
      "  2%|▏         | 5/253 [00:07<06:20,  1.53s/it]"
     ]
    },
    {
     "name": "stdout",
     "output_type": "stream",
     "text": [
      "2 pourbaix entries could not be analyzed in system pH:8.5|V:-1.2|Ag-Co\n"
     ]
    },
    {
     "name": "stderr",
     "output_type": "stream",
     "text": [
      "100%|██████████| 159/159 [00:00<00:00, 861.36it/s]\n",
      "  2%|▏         | 6/253 [00:09<05:55,  1.44s/it]"
     ]
    },
    {
     "name": "stdout",
     "output_type": "stream",
     "text": [
      "5 pourbaix entries could not be analyzed in system pH:8.5|V:-1.2|Ag-Cu\n"
     ]
    },
    {
     "name": "stderr",
     "output_type": "stream",
     "text": [
      "100%|██████████| 198/198 [00:00<00:00, 909.51it/s]\n",
      "  3%|▎         | 7/253 [00:10<05:56,  1.45s/it]"
     ]
    },
    {
     "name": "stdout",
     "output_type": "stream",
     "text": [
      "4 pourbaix entries could not be analyzed in system pH:8.5|V:-1.2|Ag-Fe\n"
     ]
    },
    {
     "name": "stderr",
     "output_type": "stream",
     "text": [
      "100%|██████████| 134/134 [00:00<00:00, 835.15it/s]\n",
      "  3%|▎         | 8/253 [00:12<06:08,  1.50s/it]"
     ]
    },
    {
     "name": "stdout",
     "output_type": "stream",
     "text": [
      "2 pourbaix entries could not be analyzed in system pH:8.5|V:-1.2|Ag-Ga\n"
     ]
    },
    {
     "name": "stderr",
     "output_type": "stream",
     "text": [
      "100%|██████████| 162/162 [00:00<00:00, 894.62it/s]\n",
      "  4%|▎         | 9/253 [00:13<06:11,  1.52s/it]"
     ]
    },
    {
     "name": "stdout",
     "output_type": "stream",
     "text": [
      "4 pourbaix entries could not be analyzed in system pH:8.5|V:-1.2|Ag-In\n"
     ]
    },
    {
     "name": "stderr",
     "output_type": "stream",
     "text": [
      "100%|██████████| 111/111 [00:00<00:00, 833.74it/s]\n",
      "  4%|▍         | 10/253 [00:14<05:44,  1.42s/it]"
     ]
    },
    {
     "name": "stdout",
     "output_type": "stream",
     "text": [
      "1 pourbaix entries could not be analyzed in system pH:8.5|V:-1.2|Ag-Ir\n"
     ]
    },
    {
     "name": "stderr",
     "output_type": "stream",
     "text": [
      "100%|██████████| 199/199 [00:00<00:00, 896.85it/s]\n",
      "  4%|▍         | 11/253 [00:16<05:27,  1.35s/it]"
     ]
    },
    {
     "name": "stdout",
     "output_type": "stream",
     "text": [
      "3 pourbaix entries could not be analyzed in system pH:8.5|V:-1.2|Ag-Mn\n"
     ]
    },
    {
     "name": "stderr",
     "output_type": "stream",
     "text": [
      "100%|██████████| 128/128 [00:00<00:00, 949.92it/s]\n",
      "  5%|▍         | 12/253 [00:17<05:31,  1.37s/it]"
     ]
    },
    {
     "name": "stdout",
     "output_type": "stream",
     "text": [
      "2 pourbaix entries could not be analyzed in system pH:8.5|V:-1.2|Ag-Mo\n"
     ]
    },
    {
     "name": "stderr",
     "output_type": "stream",
     "text": [
      "100%|██████████| 160/160 [00:00<00:00, 797.92it/s]\n",
      "  5%|▌         | 13/253 [00:19<05:52,  1.47s/it]"
     ]
    },
    {
     "name": "stdout",
     "output_type": "stream",
     "text": [
      "2 pourbaix entries could not be analyzed in system pH:8.5|V:-1.2|Ag-Ni\n"
     ]
    },
    {
     "name": "stderr",
     "output_type": "stream",
     "text": [
      "100%|██████████| 123/123 [00:00<00:00, 958.83it/s]\n",
      "  6%|▌         | 14/253 [00:20<05:17,  1.33s/it]"
     ]
    },
    {
     "name": "stdout",
     "output_type": "stream",
     "text": [
      "1 pourbaix entries could not be analyzed in system pH:8.5|V:-1.2|Ag-Os\n"
     ]
    },
    {
     "name": "stderr",
     "output_type": "stream",
     "text": [
      "100%|██████████| 158/158 [00:00<00:00, 705.12it/s]\n",
      "  6%|▌         | 15/253 [00:21<05:26,  1.37s/it]"
     ]
    },
    {
     "name": "stdout",
     "output_type": "stream",
     "text": [
      "3 pourbaix entries could not be analyzed in system pH:8.5|V:-1.2|Ag-Pb\n"
     ]
    },
    {
     "name": "stderr",
     "output_type": "stream",
     "text": [
      "100%|██████████| 139/139 [00:00<00:00, 817.13it/s]\n",
      "  6%|▋         | 16/253 [00:23<05:20,  1.35s/it]"
     ]
    },
    {
     "name": "stdout",
     "output_type": "stream",
     "text": [
      "2 pourbaix entries could not be analyzed in system pH:8.5|V:-1.2|Ag-Pd\n"
     ]
    },
    {
     "name": "stderr",
     "output_type": "stream",
     "text": [
      "100%|██████████| 125/125 [00:00<00:00, 816.95it/s]\n"
     ]
    },
    {
     "name": "stdout",
     "output_type": "stream",
     "text": [
      "2 pourbaix entries could not be analyzed in system pH:8.5|V:-1.2|Ag-Pt\n"
     ]
    },
    {
     "name": "stderr",
     "output_type": "stream",
     "text": [
      "100%|██████████| 134/134 [00:00<00:00, 831.92it/s]\n",
      "  7%|▋         | 18/253 [00:25<05:22,  1.37s/it]"
     ]
    },
    {
     "name": "stdout",
     "output_type": "stream",
     "text": [
      "4 pourbaix entries could not be analyzed in system pH:8.5|V:-1.2|Ag-Rh\n"
     ]
    },
    {
     "name": "stderr",
     "output_type": "stream",
     "text": [
      "100%|██████████| 134/134 [00:00<00:00, 826.60it/s]\n"
     ]
    },
    {
     "name": "stdout",
     "output_type": "stream",
     "text": [
      "2 pourbaix entries could not be analyzed in system pH:8.5|V:-1.2|Ag-Ru\n"
     ]
    },
    {
     "name": "stderr",
     "output_type": "stream",
     "text": [
      "100%|██████████| 158/158 [00:00<00:00, 846.39it/s]\n",
      "  8%|▊         | 20/253 [00:28<05:30,  1.42s/it]"
     ]
    },
    {
     "name": "stdout",
     "output_type": "stream",
     "text": [
      "2 pourbaix entries could not be analyzed in system pH:8.5|V:-1.2|Ag-Sn\n"
     ]
    },
    {
     "name": "stderr",
     "output_type": "stream",
     "text": [
      "100%|██████████| 195/195 [00:00<00:00, 942.55it/s]\n",
      "  8%|▊         | 21/253 [00:30<05:37,  1.46s/it]"
     ]
    },
    {
     "name": "stdout",
     "output_type": "stream",
     "text": [
      "2 pourbaix entries could not be analyzed in system pH:8.5|V:-1.2|Ag-V\n"
     ]
    },
    {
     "name": "stderr",
     "output_type": "stream",
     "text": [
      "100%|██████████| 160/160 [00:00<00:00, 814.74it/s]\n",
      "  9%|▊         | 22/253 [00:31<05:28,  1.42s/it]"
     ]
    },
    {
     "name": "stdout",
     "output_type": "stream",
     "text": [
      "1 pourbaix entries could not be analyzed in system pH:8.5|V:-1.2|Ag-Zn\n"
     ]
    },
    {
     "name": "stderr",
     "output_type": "stream",
     "text": [
      "100%|██████████| 131/131 [00:00<00:00, 851.40it/s]\n",
      "  9%|▉         | 24/253 [00:34<05:36,  1.47s/it]"
     ]
    },
    {
     "name": "stdout",
     "output_type": "stream",
     "text": [
      "2 pourbaix entries could not be analyzed in system pH:8.5|V:-1.2|Al-Au\n"
     ]
    },
    {
     "name": "stderr",
     "output_type": "stream",
     "text": [
      "100%|██████████| 172/172 [00:00<00:00, 910.21it/s]\n",
      " 10%|▉         | 25/253 [00:36<05:56,  1.56s/it]"
     ]
    },
    {
     "name": "stdout",
     "output_type": "stream",
     "text": [
      "1 pourbaix entries could not be analyzed in system pH:8.5|V:-1.2|Al-Bi\n"
     ]
    },
    {
     "name": "stderr",
     "output_type": "stream",
     "text": [
      "100%|██████████| 183/183 [00:00<00:00, 963.36it/s]\n",
      " 10%|█         | 26/253 [00:37<05:43,  1.51s/it]"
     ]
    },
    {
     "name": "stdout",
     "output_type": "stream",
     "text": [
      "2 pourbaix entries could not be analyzed in system pH:8.5|V:-1.2|Al-Co\n"
     ]
    },
    {
     "name": "stderr",
     "output_type": "stream",
     "text": [
      "100%|██████████| 179/179 [00:00<00:00, 962.03it/s]\n",
      " 11%|█         | 27/253 [00:39<06:21,  1.69s/it]"
     ]
    },
    {
     "name": "stdout",
     "output_type": "stream",
     "text": [
      "5 pourbaix entries could not be analyzed in system pH:8.5|V:-1.2|Al-Cu\n"
     ]
    },
    {
     "name": "stderr",
     "output_type": "stream",
     "text": [
      "100%|██████████| 247/247 [00:00<00:00, 955.35it/s]\n",
      " 11%|█         | 28/253 [00:44<09:11,  2.45s/it]"
     ]
    },
    {
     "name": "stdout",
     "output_type": "stream",
     "text": [
      "4 pourbaix entries could not be analyzed in system pH:8.5|V:-1.2|Al-Fe\n"
     ]
    },
    {
     "name": "stderr",
     "output_type": "stream",
     "text": [
      "100%|██████████| 149/149 [00:00<00:00, 905.72it/s]\n",
      " 11%|█▏        | 29/253 [00:45<08:00,  2.15s/it]"
     ]
    },
    {
     "name": "stdout",
     "output_type": "stream",
     "text": [
      "2 pourbaix entries could not be analyzed in system pH:8.5|V:-1.2|Al-Ga\n"
     ]
    },
    {
     "name": "stderr",
     "output_type": "stream",
     "text": [
      "100%|██████████| 125/125 [00:00<00:00, 855.84it/s]\n",
      " 12%|█▏        | 30/253 [00:47<07:24,  1.99s/it]"
     ]
    },
    {
     "name": "stdout",
     "output_type": "stream",
     "text": [
      "2 pourbaix entries could not be analyzed in system pH:8.5|V:-1.2|Al-In\n"
     ]
    },
    {
     "name": "stderr",
     "output_type": "stream",
     "text": [
      "100%|██████████| 110/110 [00:00<00:00, 827.30it/s]\n",
      " 12%|█▏        | 31/253 [00:48<06:38,  1.79s/it]"
     ]
    },
    {
     "name": "stdout",
     "output_type": "stream",
     "text": [
      "1 pourbaix entries could not be analyzed in system pH:8.5|V:-1.2|Al-Ir\n"
     ]
    },
    {
     "name": "stderr",
     "output_type": "stream",
     "text": [
      "100%|██████████| 204/204 [00:00<00:00, 933.91it/s]\n"
     ]
    },
    {
     "name": "stdout",
     "output_type": "stream",
     "text": [
      "3 pourbaix entries could not be analyzed in system pH:8.5|V:-1.2|Al-Mn\n"
     ]
    },
    {
     "name": "stderr",
     "output_type": "stream",
     "text": [
      "100%|██████████| 164/164 [00:00<00:00, 950.96it/s]\n",
      " 13%|█▎        | 33/253 [00:52<06:57,  1.90s/it]"
     ]
    },
    {
     "name": "stdout",
     "output_type": "stream",
     "text": [
      "2 pourbaix entries could not be analyzed in system pH:8.5|V:-1.2|Al-Mo\n"
     ]
    },
    {
     "name": "stderr",
     "output_type": "stream",
     "text": [
      "100%|██████████| 228/228 [00:00<00:00, 920.61it/s]\n"
     ]
    },
    {
     "name": "stdout",
     "output_type": "stream",
     "text": [
      "2 pourbaix entries could not be analyzed in system pH:8.5|V:-1.2|Al-Ni\n"
     ]
    },
    {
     "name": "stderr",
     "output_type": "stream",
     "text": [
      "100%|██████████| 121/121 [00:00<00:00, 939.68it/s]\n"
     ]
    },
    {
     "name": "stdout",
     "output_type": "stream",
     "text": [
      "1 pourbaix entries could not be analyzed in system pH:8.5|V:-1.2|Al-Os\n"
     ]
    },
    {
     "name": "stderr",
     "output_type": "stream",
     "text": [
      "100%|██████████| 151/151 [00:00<00:00, 878.96it/s]\n",
      " 14%|█▍        | 36/253 [00:58<06:33,  1.81s/it]"
     ]
    },
    {
     "name": "stdout",
     "output_type": "stream",
     "text": [
      "3 pourbaix entries could not be analyzed in system pH:8.5|V:-1.2|Al-Pb\n"
     ]
    },
    {
     "name": "stderr",
     "output_type": "stream",
     "text": [
      "100%|██████████| 138/138 [00:00<00:00, 968.74it/s]\n",
      " 15%|█▍        | 37/253 [00:59<06:07,  1.70s/it]"
     ]
    },
    {
     "name": "stdout",
     "output_type": "stream",
     "text": [
      "2 pourbaix entries could not be analyzed in system pH:8.5|V:-1.2|Al-Pd\n"
     ]
    },
    {
     "name": "stderr",
     "output_type": "stream",
     "text": [
      "100%|██████████| 159/159 [00:00<00:00, 918.60it/s]\n",
      " 15%|█▌        | 38/253 [01:01<05:53,  1.64s/it]"
     ]
    },
    {
     "name": "stdout",
     "output_type": "stream",
     "text": [
      "2 pourbaix entries could not be analyzed in system pH:8.5|V:-1.2|Al-Pt\n"
     ]
    },
    {
     "name": "stderr",
     "output_type": "stream",
     "text": [
      "100%|██████████| 134/134 [00:00<00:00, 957.01it/s]\n",
      " 15%|█▌        | 39/253 [01:02<05:35,  1.57s/it]"
     ]
    },
    {
     "name": "stdout",
     "output_type": "stream",
     "text": [
      "5 pourbaix entries could not be analyzed in system pH:8.5|V:-1.2|Al-Rh\n"
     ]
    },
    {
     "name": "stderr",
     "output_type": "stream",
     "text": [
      "100%|██████████| 138/138 [00:00<00:00, 868.51it/s]\n",
      " 16%|█▌        | 40/253 [01:03<05:31,  1.56s/it]"
     ]
    },
    {
     "name": "stdout",
     "output_type": "stream",
     "text": [
      "1 pourbaix entries could not be analyzed in system pH:8.5|V:-1.2|Al-Ru\n"
     ]
    },
    {
     "name": "stderr",
     "output_type": "stream",
     "text": [
      "100%|██████████| 136/136 [00:00<00:00, 950.34it/s]\n",
      " 16%|█▌        | 41/253 [01:05<05:17,  1.50s/it]"
     ]
    },
    {
     "name": "stdout",
     "output_type": "stream",
     "text": [
      "2 pourbaix entries could not be analyzed in system pH:8.5|V:-1.2|Al-Sn\n"
     ]
    },
    {
     "name": "stderr",
     "output_type": "stream",
     "text": [
      "100%|██████████| 266/266 [00:00<00:00, 964.46it/s]\n",
      " 17%|█▋        | 42/253 [01:07<06:22,  1.81s/it]"
     ]
    },
    {
     "name": "stdout",
     "output_type": "stream",
     "text": [
      "2 pourbaix entries could not be analyzed in system pH:8.5|V:-1.2|Al-V\n"
     ]
    },
    {
     "name": "stderr",
     "output_type": "stream",
     "text": [
      "100%|██████████| 123/123 [00:00<00:00, 924.26it/s]\n",
      " 17%|█▋        | 43/253 [01:09<05:57,  1.70s/it]"
     ]
    },
    {
     "name": "stdout",
     "output_type": "stream",
     "text": [
      "1 pourbaix entries could not be analyzed in system pH:8.5|V:-1.2|Al-Zn\n"
     ]
    },
    {
     "name": "stderr",
     "output_type": "stream",
     "text": [
      "100%|██████████| 143/143 [00:00<00:00, 864.48it/s]\n",
      " 18%|█▊        | 45/253 [01:11<05:06,  1.47s/it]"
     ]
    },
    {
     "name": "stdout",
     "output_type": "stream",
     "text": [
      "1 pourbaix entries could not be analyzed in system pH:8.5|V:-1.2|Au-Bi\n"
     ]
    },
    {
     "name": "stderr",
     "output_type": "stream",
     "text": [
      "100%|██████████| 122/122 [00:00<00:00, 935.09it/s]\n",
      " 18%|█▊        | 46/253 [01:12<04:40,  1.36s/it]"
     ]
    },
    {
     "name": "stdout",
     "output_type": "stream",
     "text": [
      "2 pourbaix entries could not be analyzed in system pH:8.5|V:-1.2|Au-Co\n"
     ]
    },
    {
     "name": "stderr",
     "output_type": "stream",
     "text": [
      "100%|██████████| 118/118 [00:00<00:00, 829.17it/s]\n",
      " 19%|█▊        | 47/253 [01:13<04:16,  1.25s/it]"
     ]
    },
    {
     "name": "stdout",
     "output_type": "stream",
     "text": [
      "5 pourbaix entries could not be analyzed in system pH:8.5|V:-1.2|Au-Cu\n"
     ]
    },
    {
     "name": "stderr",
     "output_type": "stream",
     "text": [
      "100%|██████████| 132/132 [00:00<00:00, 953.43it/s]\n",
      " 19%|█▉        | 48/253 [01:14<04:13,  1.24s/it]"
     ]
    },
    {
     "name": "stdout",
     "output_type": "stream",
     "text": [
      "4 pourbaix entries could not be analyzed in system pH:8.5|V:-1.2|Au-Fe\n"
     ]
    },
    {
     "name": "stderr",
     "output_type": "stream",
     "text": [
      "100%|██████████| 115/115 [00:00<00:00, 929.58it/s]\n",
      " 19%|█▉        | 49/253 [01:15<03:52,  1.14s/it]"
     ]
    },
    {
     "name": "stdout",
     "output_type": "stream",
     "text": [
      "2 pourbaix entries could not be analyzed in system pH:8.5|V:-1.2|Au-Ga\n"
     ]
    },
    {
     "name": "stderr",
     "output_type": "stream",
     "text": [
      "100%|██████████| 115/115 [00:00<00:00, 825.35it/s]\n",
      " 20%|█▉        | 50/253 [01:17<04:34,  1.35s/it]"
     ]
    },
    {
     "name": "stdout",
     "output_type": "stream",
     "text": [
      "3 pourbaix entries could not be analyzed in system pH:8.5|V:-1.2|Au-In\n"
     ]
    },
    {
     "name": "stderr",
     "output_type": "stream",
     "text": [
      "100%|██████████| 62/62 [00:00<00:00, 962.11it/s]\n",
      " 20%|██        | 51/253 [01:18<03:56,  1.17s/it]"
     ]
    },
    {
     "name": "stdout",
     "output_type": "stream",
     "text": [
      "1 pourbaix entries could not be analyzed in system pH:8.5|V:-1.2|Au-Ir\n"
     ]
    },
    {
     "name": "stderr",
     "output_type": "stream",
     "text": [
      "100%|██████████| 171/171 [00:00<00:00, 786.97it/s]\n",
      " 21%|██        | 52/253 [01:19<04:11,  1.25s/it]"
     ]
    },
    {
     "name": "stdout",
     "output_type": "stream",
     "text": [
      "3 pourbaix entries could not be analyzed in system pH:8.5|V:-1.2|Au-Mn\n"
     ]
    },
    {
     "name": "stderr",
     "output_type": "stream",
     "text": [
      "100%|██████████| 95/95 [00:00<00:00, 775.10it/s]\n",
      " 21%|██        | 53/253 [01:20<03:55,  1.18s/it]"
     ]
    },
    {
     "name": "stdout",
     "output_type": "stream",
     "text": [
      "2 pourbaix entries could not be analyzed in system pH:8.5|V:-1.2|Au-Mo\n"
     ]
    },
    {
     "name": "stderr",
     "output_type": "stream",
     "text": [
      "100%|██████████| 128/128 [00:00<00:00, 803.14it/s]\n",
      " 21%|██▏       | 54/253 [01:22<03:59,  1.21s/it]"
     ]
    },
    {
     "name": "stdout",
     "output_type": "stream",
     "text": [
      "3 pourbaix entries could not be analyzed in system pH:8.5|V:-1.2|Au-Ni\n"
     ]
    },
    {
     "name": "stderr",
     "output_type": "stream",
     "text": [
      "100%|██████████| 62/62 [00:00<00:00, 971.85it/s]\n"
     ]
    },
    {
     "name": "stdout",
     "output_type": "stream",
     "text": [
      "1 pourbaix entries could not be analyzed in system pH:8.5|V:-1.2|Au-Os\n"
     ]
    },
    {
     "name": "stderr",
     "output_type": "stream",
     "text": [
      "100%|██████████| 132/132 [00:00<00:00, 827.56it/s]\n",
      " 22%|██▏       | 56/253 [01:24<04:03,  1.23s/it]"
     ]
    },
    {
     "name": "stdout",
     "output_type": "stream",
     "text": [
      "4 pourbaix entries could not be analyzed in system pH:8.5|V:-1.2|Au-Pb\n"
     ]
    },
    {
     "name": "stderr",
     "output_type": "stream",
     "text": [
      "100%|██████████| 80/80 [00:00<00:00, 850.58it/s]\n",
      " 23%|██▎       | 57/253 [01:25<03:46,  1.16s/it]"
     ]
    },
    {
     "name": "stdout",
     "output_type": "stream",
     "text": [
      "2 pourbaix entries could not be analyzed in system pH:8.5|V:-1.2|Au-Pd\n"
     ]
    },
    {
     "name": "stderr",
     "output_type": "stream",
     "text": [
      "100%|██████████| 68/68 [00:00<00:00, 836.70it/s]\n",
      " 23%|██▎       | 58/253 [01:26<03:32,  1.09s/it]"
     ]
    },
    {
     "name": "stdout",
     "output_type": "stream",
     "text": [
      "2 pourbaix entries could not be analyzed in system pH:8.5|V:-1.2|Au-Pt\n"
     ]
    },
    {
     "name": "stderr",
     "output_type": "stream",
     "text": [
      "100%|██████████| 88/88 [00:00<00:00, 719.64it/s]\n",
      " 23%|██▎       | 59/253 [01:27<03:32,  1.10s/it]"
     ]
    },
    {
     "name": "stdout",
     "output_type": "stream",
     "text": [
      "4 pourbaix entries could not be analyzed in system pH:8.5|V:-1.2|Au-Rh\n"
     ]
    },
    {
     "name": "stderr",
     "output_type": "stream",
     "text": [
      "100%|██████████| 93/93 [00:00<00:00, 769.38it/s]\n",
      " 24%|██▎       | 60/253 [01:28<03:30,  1.09s/it]"
     ]
    },
    {
     "name": "stdout",
     "output_type": "stream",
     "text": [
      "3 pourbaix entries could not be analyzed in system pH:8.5|V:-1.2|Au-Ru\n"
     ]
    },
    {
     "name": "stderr",
     "output_type": "stream",
     "text": [
      "100%|██████████| 126/126 [00:00<00:00, 899.41it/s]\n"
     ]
    },
    {
     "name": "stdout",
     "output_type": "stream",
     "text": [
      "2 pourbaix entries could not be analyzed in system pH:8.5|V:-1.2|Au-Sn\n"
     ]
    },
    {
     "name": "stderr",
     "output_type": "stream",
     "text": [
      "100%|██████████| 213/213 [00:00<00:00, 890.09it/s]\n",
      " 25%|██▍       | 62/253 [01:31<04:21,  1.37s/it]"
     ]
    },
    {
     "name": "stdout",
     "output_type": "stream",
     "text": [
      "2 pourbaix entries could not be analyzed in system pH:8.5|V:-1.2|Au-V\n"
     ]
    },
    {
     "name": "stderr",
     "output_type": "stream",
     "text": [
      "100%|██████████| 86/86 [00:00<00:00, 820.91it/s]\n",
      " 25%|██▍       | 63/253 [01:32<03:58,  1.25s/it]"
     ]
    },
    {
     "name": "stdout",
     "output_type": "stream",
     "text": [
      "1 pourbaix entries could not be analyzed in system pH:8.5|V:-1.2|Au-Zn\n"
     ]
    },
    {
     "name": "stderr",
     "output_type": "stream",
     "text": [
      "100%|██████████| 189/189 [00:00<00:00, 878.43it/s]\n",
      " 26%|██▌       | 65/253 [01:35<04:14,  1.36s/it]"
     ]
    },
    {
     "name": "stdout",
     "output_type": "stream",
     "text": [
      "2 pourbaix entries could not be analyzed in system pH:8.5|V:-1.2|Bi-Co\n"
     ]
    },
    {
     "name": "stderr",
     "output_type": "stream",
     "text": [
      "100%|██████████| 170/170 [00:00<00:00, 714.28it/s]\n",
      " 26%|██▌       | 66/253 [01:37<04:38,  1.49s/it]"
     ]
    },
    {
     "name": "stdout",
     "output_type": "stream",
     "text": [
      "3 pourbaix entries could not be analyzed in system pH:8.5|V:-1.2|Bi-Cu\n"
     ]
    },
    {
     "name": "stderr",
     "output_type": "stream",
     "text": [
      "100%|██████████| 223/223 [00:00<00:00, 906.82it/s]\n"
     ]
    },
    {
     "name": "stdout",
     "output_type": "stream",
     "text": [
      "4 pourbaix entries could not be analyzed in system pH:8.5|V:-1.2|Bi-Fe\n"
     ]
    },
    {
     "name": "stderr",
     "output_type": "stream",
     "text": [
      "100%|██████████| 118/118 [00:00<00:00, 844.94it/s]\n",
      "100%|██████████| 165/165 [00:00<00:00, 947.88it/s]\n",
      " 27%|██▋       | 69/253 [01:43<05:04,  1.66s/it]"
     ]
    },
    {
     "name": "stdout",
     "output_type": "stream",
     "text": [
      "3 pourbaix entries could not be analyzed in system pH:8.5|V:-1.2|Bi-In\n"
     ]
    },
    {
     "name": "stderr",
     "output_type": "stream",
     "text": [
      "100%|██████████| 113/113 [00:00<00:00, 786.08it/s]\n",
      "100%|██████████| 206/206 [00:00<00:00, 926.61it/s]\n",
      " 28%|██▊       | 71/253 [01:46<04:53,  1.61s/it]"
     ]
    },
    {
     "name": "stdout",
     "output_type": "stream",
     "text": [
      "2 pourbaix entries could not be analyzed in system pH:8.5|V:-1.2|Bi-Mn\n"
     ]
    },
    {
     "name": "stderr",
     "output_type": "stream",
     "text": [
      "100%|██████████| 169/169 [00:00<00:00, 955.94it/s]\n",
      " 28%|██▊       | 72/253 [01:47<04:45,  1.58s/it]"
     ]
    },
    {
     "name": "stdout",
     "output_type": "stream",
     "text": [
      "1 pourbaix entries could not be analyzed in system pH:8.5|V:-1.2|Bi-Mo\n"
     ]
    },
    {
     "name": "stderr",
     "output_type": "stream",
     "text": [
      "100%|██████████| 206/206 [00:00<00:00, 915.20it/s]\n"
     ]
    },
    {
     "name": "stdout",
     "output_type": "stream",
     "text": [
      "2 pourbaix entries could not be analyzed in system pH:8.5|V:-1.2|Bi-Ni\n"
     ]
    },
    {
     "name": "stderr",
     "output_type": "stream",
     "text": [
      "100%|██████████| 132/132 [00:00<00:00, 913.52it/s]\n",
      "100%|██████████| 148/148 [00:00<00:00, 870.88it/s]\n"
     ]
    },
    {
     "name": "stdout",
     "output_type": "stream",
     "text": [
      "3 pourbaix entries could not be analyzed in system pH:8.5|V:-1.2|Bi-Pb\n"
     ]
    },
    {
     "name": "stderr",
     "output_type": "stream",
     "text": [
      "100%|██████████| 180/180 [00:00<00:00, 884.57it/s]\n",
      " 30%|███       | 76/253 [01:54<04:54,  1.66s/it]"
     ]
    },
    {
     "name": "stdout",
     "output_type": "stream",
     "text": [
      "1 pourbaix entries could not be analyzed in system pH:8.5|V:-1.2|Bi-Pd\n"
     ]
    },
    {
     "name": "stderr",
     "output_type": "stream",
     "text": [
      "100%|██████████| 150/150 [00:00<00:00, 955.03it/s]\n"
     ]
    },
    {
     "name": "stdout",
     "output_type": "stream",
     "text": [
      "1 pourbaix entries could not be analyzed in system pH:8.5|V:-1.2|Bi-Pt\n"
     ]
    },
    {
     "name": "stderr",
     "output_type": "stream",
     "text": [
      "100%|██████████| 191/191 [00:00<00:00, 909.06it/s]\n"
     ]
    },
    {
     "name": "stdout",
     "output_type": "stream",
     "text": [
      "4 pourbaix entries could not be analyzed in system pH:8.5|V:-1.2|Bi-Rh\n"
     ]
    },
    {
     "name": "stderr",
     "output_type": "stream",
     "text": [
      "100%|██████████| 128/128 [00:00<00:00, 875.63it/s]\n",
      "100%|██████████| 166/166 [00:00<00:00, 909.04it/s]\n",
      " 32%|███▏      | 80/253 [01:59<04:14,  1.47s/it]"
     ]
    },
    {
     "name": "stdout",
     "output_type": "stream",
     "text": [
      "1 pourbaix entries could not be analyzed in system pH:8.5|V:-1.2|Bi-Sn\n"
     ]
    },
    {
     "name": "stderr",
     "output_type": "stream",
     "text": [
      "100%|██████████| 259/259 [00:00<00:00, 940.62it/s]\n",
      " 32%|███▏      | 81/253 [02:01<04:24,  1.54s/it]"
     ]
    },
    {
     "name": "stdout",
     "output_type": "stream",
     "text": [
      "2 pourbaix entries could not be analyzed in system pH:8.5|V:-1.2|Bi-V\n"
     ]
    },
    {
     "name": "stderr",
     "output_type": "stream",
     "text": [
      "100%|██████████| 118/118 [00:00<00:00, 966.39it/s]\n",
      "100%|██████████| 165/165 [00:00<00:00, 974.30it/s]\n",
      " 33%|███▎      | 84/253 [02:05<04:02,  1.44s/it]"
     ]
    },
    {
     "name": "stdout",
     "output_type": "stream",
     "text": [
      "5 pourbaix entries could not be analyzed in system pH:8.5|V:-1.2|Co-Cu\n"
     ]
    },
    {
     "name": "stderr",
     "output_type": "stream",
     "text": [
      "100%|██████████| 225/225 [00:00<00:00, 911.34it/s]\n",
      " 34%|███▎      | 85/253 [02:08<05:00,  1.79s/it]"
     ]
    },
    {
     "name": "stdout",
     "output_type": "stream",
     "text": [
      "5 pourbaix entries could not be analyzed in system pH:8.5|V:-1.2|Co-Fe\n"
     ]
    },
    {
     "name": "stderr",
     "output_type": "stream",
     "text": [
      "100%|██████████| 160/160 [00:00<00:00, 934.91it/s]\n",
      " 34%|███▍      | 86/253 [02:09<04:41,  1.68s/it]"
     ]
    },
    {
     "name": "stdout",
     "output_type": "stream",
     "text": [
      "2 pourbaix entries could not be analyzed in system pH:8.5|V:-1.2|Co-Ga\n"
     ]
    },
    {
     "name": "stderr",
     "output_type": "stream",
     "text": [
      "100%|██████████| 136/136 [00:00<00:00, 915.03it/s]\n",
      " 34%|███▍      | 87/253 [02:11<04:25,  1.60s/it]"
     ]
    },
    {
     "name": "stdout",
     "output_type": "stream",
     "text": [
      "2 pourbaix entries could not be analyzed in system pH:8.5|V:-1.2|Co-In\n"
     ]
    },
    {
     "name": "stderr",
     "output_type": "stream",
     "text": [
      "100%|██████████| 111/111 [00:00<00:00, 939.67it/s]\n",
      " 35%|███▍      | 88/253 [02:12<03:48,  1.39s/it]"
     ]
    },
    {
     "name": "stdout",
     "output_type": "stream",
     "text": [
      "1 pourbaix entries could not be analyzed in system pH:8.5|V:-1.2|Co-Ir\n"
     ]
    },
    {
     "name": "stderr",
     "output_type": "stream",
     "text": [
      "100%|██████████| 216/216 [00:00<00:00, 872.36it/s]\n",
      " 35%|███▌      | 89/253 [02:13<04:11,  1.53s/it]"
     ]
    },
    {
     "name": "stdout",
     "output_type": "stream",
     "text": [
      "3 pourbaix entries could not be analyzed in system pH:8.5|V:-1.2|Co-Mn\n"
     ]
    },
    {
     "name": "stderr",
     "output_type": "stream",
     "text": [
      "100%|██████████| 143/143 [00:00<00:00, 958.55it/s]\n",
      " 36%|███▌      | 90/253 [02:15<04:06,  1.51s/it]"
     ]
    },
    {
     "name": "stdout",
     "output_type": "stream",
     "text": [
      "2 pourbaix entries could not be analyzed in system pH:8.5|V:-1.2|Co-Mo\n"
     ]
    },
    {
     "name": "stderr",
     "output_type": "stream",
     "text": [
      "100%|██████████| 200/200 [00:00<00:00, 845.43it/s]\n",
      " 36%|███▌      | 91/253 [02:19<06:04,  2.25s/it]"
     ]
    },
    {
     "name": "stdout",
     "output_type": "stream",
     "text": [
      "2 pourbaix entries could not be analyzed in system pH:8.5|V:-1.2|Co-Ni\n"
     ]
    },
    {
     "name": "stderr",
     "output_type": "stream",
     "text": [
      "100%|██████████| 101/101 [00:00<00:00, 961.39it/s]\n",
      " 36%|███▋      | 92/253 [02:20<04:58,  1.85s/it]"
     ]
    },
    {
     "name": "stdout",
     "output_type": "stream",
     "text": [
      "1 pourbaix entries could not be analyzed in system pH:8.5|V:-1.2|Co-Os\n"
     ]
    },
    {
     "name": "stderr",
     "output_type": "stream",
     "text": [
      "100%|██████████| 166/166 [00:00<00:00, 954.68it/s]\n"
     ]
    },
    {
     "name": "stdout",
     "output_type": "stream",
     "text": [
      "4 pourbaix entries could not be analyzed in system pH:8.5|V:-1.2|Co-Pb\n"
     ]
    },
    {
     "name": "stderr",
     "output_type": "stream",
     "text": [
      "100%|██████████| 122/122 [00:00<00:00, 884.86it/s]\n"
     ]
    },
    {
     "name": "stdout",
     "output_type": "stream",
     "text": [
      "2 pourbaix entries could not be analyzed in system pH:8.5|V:-1.2|Co-Pd\n"
     ]
    },
    {
     "name": "stderr",
     "output_type": "stream",
     "text": [
      "100%|██████████| 155/155 [00:00<00:00, 802.44it/s]\n",
      " 38%|███▊      | 95/253 [02:25<04:21,  1.66s/it]"
     ]
    },
    {
     "name": "stdout",
     "output_type": "stream",
     "text": [
      "3 pourbaix entries could not be analyzed in system pH:8.5|V:-1.2|Co-Pt\n"
     ]
    },
    {
     "name": "stderr",
     "output_type": "stream",
     "text": [
      "100%|██████████| 122/122 [00:00<00:00, 913.51it/s]\n",
      " 38%|███▊      | 96/253 [02:26<03:59,  1.52s/it]"
     ]
    },
    {
     "name": "stdout",
     "output_type": "stream",
     "text": [
      "5 pourbaix entries could not be analyzed in system pH:8.5|V:-1.2|Co-Rh\n"
     ]
    },
    {
     "name": "stderr",
     "output_type": "stream",
     "text": [
      "100%|██████████| 115/115 [00:00<00:00, 954.96it/s]\n"
     ]
    },
    {
     "name": "stdout",
     "output_type": "stream",
     "text": [
      "2 pourbaix entries could not be analyzed in system pH:8.5|V:-1.2|Co-Ru\n"
     ]
    },
    {
     "name": "stderr",
     "output_type": "stream",
     "text": [
      "100%|██████████| 162/162 [00:00<00:00, 944.12it/s]\n",
      " 39%|███▊      | 98/253 [02:29<03:47,  1.47s/it]"
     ]
    },
    {
     "name": "stdout",
     "output_type": "stream",
     "text": [
      "2 pourbaix entries could not be analyzed in system pH:8.5|V:-1.2|Co-Sn\n"
     ]
    },
    {
     "name": "stderr",
     "output_type": "stream",
     "text": [
      "100%|██████████| 243/243 [00:00<00:00, 901.06it/s]\n",
      " 39%|███▉      | 99/253 [02:30<03:56,  1.54s/it]"
     ]
    },
    {
     "name": "stdout",
     "output_type": "stream",
     "text": [
      "2 pourbaix entries could not be analyzed in system pH:8.5|V:-1.2|Co-V\n"
     ]
    },
    {
     "name": "stderr",
     "output_type": "stream",
     "text": [
      "100%|██████████| 174/174 [00:00<00:00, 976.02it/s]\n"
     ]
    },
    {
     "name": "stdout",
     "output_type": "stream",
     "text": [
      "1 pourbaix entries could not be analyzed in system pH:8.5|V:-1.2|Co-Zn\n"
     ]
    },
    {
     "name": "stderr",
     "output_type": "stream",
     "text": [
      "100%|██████████| 236/236 [00:00<00:00, 905.15it/s]\n",
      " 40%|████      | 102/253 [02:37<04:37,  1.84s/it]"
     ]
    },
    {
     "name": "stdout",
     "output_type": "stream",
     "text": [
      "8 pourbaix entries could not be analyzed in system pH:8.5|V:-1.2|Cu-Fe\n"
     ]
    },
    {
     "name": "stderr",
     "output_type": "stream",
     "text": [
      "100%|██████████| 147/147 [00:00<00:00, 850.99it/s]\n",
      " 41%|████      | 103/253 [02:38<04:14,  1.69s/it]"
     ]
    },
    {
     "name": "stdout",
     "output_type": "stream",
     "text": [
      "5 pourbaix entries could not be analyzed in system pH:8.5|V:-1.2|Cu-Ga\n"
     ]
    },
    {
     "name": "stderr",
     "output_type": "stream",
     "text": [
      "100%|██████████| 162/162 [00:00<00:00, 837.74it/s]\n",
      " 41%|████      | 104/253 [02:40<04:08,  1.67s/it]"
     ]
    },
    {
     "name": "stdout",
     "output_type": "stream",
     "text": [
      "4 pourbaix entries could not be analyzed in system pH:8.5|V:-1.2|Cu-In\n"
     ]
    },
    {
     "name": "stderr",
     "output_type": "stream",
     "text": [
      "100%|██████████| 100/100 [00:00<00:00, 878.61it/s]\n"
     ]
    },
    {
     "name": "stdout",
     "output_type": "stream",
     "text": [
      "3 pourbaix entries could not be analyzed in system pH:8.5|V:-1.2|Cu-Ir\n"
     ]
    },
    {
     "name": "stderr",
     "output_type": "stream",
     "text": [
      "100%|██████████| 189/189 [00:00<00:00, 860.11it/s]\n",
      " 42%|████▏     | 106/253 [02:43<03:51,  1.57s/it]"
     ]
    },
    {
     "name": "stdout",
     "output_type": "stream",
     "text": [
      "5 pourbaix entries could not be analyzed in system pH:8.5|V:-1.2|Cu-Mn\n"
     ]
    },
    {
     "name": "stderr",
     "output_type": "stream",
     "text": [
      "100%|██████████| 134/134 [00:00<00:00, 963.51it/s]\n",
      " 42%|████▏     | 107/253 [02:44<03:40,  1.51s/it]"
     ]
    },
    {
     "name": "stdout",
     "output_type": "stream",
     "text": [
      "5 pourbaix entries could not be analyzed in system pH:8.5|V:-1.2|Cu-Mo\n"
     ]
    },
    {
     "name": "stderr",
     "output_type": "stream",
     "text": [
      "100%|██████████| 193/193 [00:00<00:00, 949.18it/s]\n",
      " 43%|████▎     | 108/253 [02:45<03:33,  1.47s/it]"
     ]
    },
    {
     "name": "stdout",
     "output_type": "stream",
     "text": [
      "5 pourbaix entries could not be analyzed in system pH:8.5|V:-1.2|Cu-Ni\n"
     ]
    },
    {
     "name": "stderr",
     "output_type": "stream",
     "text": [
      "100%|██████████| 109/109 [00:00<00:00, 945.90it/s]\n",
      " 43%|████▎     | 109/253 [02:46<03:06,  1.30s/it]"
     ]
    },
    {
     "name": "stdout",
     "output_type": "stream",
     "text": [
      "4 pourbaix entries could not be analyzed in system pH:8.5|V:-1.2|Cu-Os\n"
     ]
    },
    {
     "name": "stderr",
     "output_type": "stream",
     "text": [
      "100%|██████████| 174/174 [00:00<00:00, 957.40it/s]\n",
      " 43%|████▎     | 110/253 [02:48<03:11,  1.34s/it]"
     ]
    },
    {
     "name": "stdout",
     "output_type": "stream",
     "text": [
      "5 pourbaix entries could not be analyzed in system pH:8.5|V:-1.2|Cu-Pb\n"
     ]
    },
    {
     "name": "stderr",
     "output_type": "stream",
     "text": [
      "100%|██████████| 123/123 [00:00<00:00, 933.22it/s]\n",
      " 44%|████▍     | 111/253 [02:49<02:55,  1.24s/it]"
     ]
    },
    {
     "name": "stdout",
     "output_type": "stream",
     "text": [
      "5 pourbaix entries could not be analyzed in system pH:8.5|V:-1.2|Cu-Pd\n"
     ]
    },
    {
     "name": "stderr",
     "output_type": "stream",
     "text": [
      "100%|██████████| 127/127 [00:00<00:00, 885.82it/s]\n",
      " 44%|████▍     | 112/253 [02:50<02:57,  1.26s/it]"
     ]
    },
    {
     "name": "stdout",
     "output_type": "stream",
     "text": [
      "4 pourbaix entries could not be analyzed in system pH:8.5|V:-1.2|Cu-Pt\n"
     ]
    },
    {
     "name": "stderr",
     "output_type": "stream",
     "text": [
      "100%|██████████| 125/125 [00:00<00:00, 849.02it/s]\n",
      " 45%|████▍     | 113/253 [02:52<03:07,  1.34s/it]"
     ]
    },
    {
     "name": "stdout",
     "output_type": "stream",
     "text": [
      "7 pourbaix entries could not be analyzed in system pH:8.5|V:-1.2|Cu-Rh\n"
     ]
    },
    {
     "name": "stderr",
     "output_type": "stream",
     "text": [
      "100%|██████████| 100/100 [00:00<00:00, 937.65it/s]\n",
      " 45%|████▌     | 114/253 [02:52<02:45,  1.19s/it]"
     ]
    },
    {
     "name": "stdout",
     "output_type": "stream",
     "text": [
      "4 pourbaix entries could not be analyzed in system pH:8.5|V:-1.2|Cu-Ru\n"
     ]
    },
    {
     "name": "stderr",
     "output_type": "stream",
     "text": [
      "100%|██████████| 162/162 [00:00<00:00, 902.53it/s]\n",
      " 45%|████▌     | 115/253 [02:54<02:56,  1.28s/it]"
     ]
    },
    {
     "name": "stdout",
     "output_type": "stream",
     "text": [
      "4 pourbaix entries could not be analyzed in system pH:8.5|V:-1.2|Cu-Sn\n"
     ]
    },
    {
     "name": "stderr",
     "output_type": "stream",
     "text": [
      "100%|██████████| 241/241 [00:00<00:00, 946.05it/s]\n",
      " 46%|████▌     | 116/253 [02:56<03:08,  1.38s/it]"
     ]
    },
    {
     "name": "stdout",
     "output_type": "stream",
     "text": [
      "5 pourbaix entries could not be analyzed in system pH:8.5|V:-1.2|Cu-V\n"
     ]
    },
    {
     "name": "stderr",
     "output_type": "stream",
     "text": [
      "100%|██████████| 136/136 [00:00<00:00, 732.82it/s]\n",
      " 46%|████▌     | 117/253 [02:57<03:13,  1.42s/it]"
     ]
    },
    {
     "name": "stdout",
     "output_type": "stream",
     "text": [
      "4 pourbaix entries could not be analyzed in system pH:8.5|V:-1.2|Cu-Zn\n"
     ]
    },
    {
     "name": "stderr",
     "output_type": "stream",
     "text": [
      "100%|██████████| 199/199 [00:00<00:00, 945.83it/s]\n",
      " 47%|████▋     | 119/253 [03:01<03:40,  1.64s/it]"
     ]
    },
    {
     "name": "stdout",
     "output_type": "stream",
     "text": [
      "5 pourbaix entries could not be analyzed in system pH:8.5|V:-1.2|Fe-Ga\n"
     ]
    },
    {
     "name": "stderr",
     "output_type": "stream",
     "text": [
      "100%|██████████| 188/188 [00:00<00:00, 968.84it/s]\n",
      " 47%|████▋     | 120/253 [03:02<03:38,  1.64s/it]"
     ]
    },
    {
     "name": "stdout",
     "output_type": "stream",
     "text": [
      "5 pourbaix entries could not be analyzed in system pH:8.5|V:-1.2|Fe-In\n"
     ]
    },
    {
     "name": "stderr",
     "output_type": "stream",
     "text": [
      "100%|██████████| 125/125 [00:00<00:00, 906.60it/s]\n",
      " 48%|████▊     | 121/253 [03:06<04:40,  2.12s/it]"
     ]
    },
    {
     "name": "stdout",
     "output_type": "stream",
     "text": [
      "3 pourbaix entries could not be analyzed in system pH:8.5|V:-1.2|Fe-Ir\n"
     ]
    },
    {
     "name": "stderr",
     "output_type": "stream",
     "text": [
      "100%|██████████| 255/255 [00:00<00:00, 948.01it/s]\n",
      " 48%|████▊     | 122/253 [03:10<05:55,  2.71s/it]"
     ]
    },
    {
     "name": "stdout",
     "output_type": "stream",
     "text": [
      "5 pourbaix entries could not be analyzed in system pH:8.5|V:-1.2|Fe-Mn\n"
     ]
    },
    {
     "name": "stderr",
     "output_type": "stream",
     "text": [
      "100%|██████████| 226/226 [00:00<00:00, 816.90it/s]\n",
      " 49%|████▊     | 123/253 [03:12<05:24,  2.49s/it]"
     ]
    },
    {
     "name": "stdout",
     "output_type": "stream",
     "text": [
      "5 pourbaix entries could not be analyzed in system pH:8.5|V:-1.2|Fe-Mo\n"
     ]
    },
    {
     "name": "stderr",
     "output_type": "stream",
     "text": [
      "100%|██████████| 224/224 [00:00<00:00, 917.90it/s]\n",
      " 49%|████▉     | 124/253 [03:14<05:04,  2.36s/it]"
     ]
    },
    {
     "name": "stdout",
     "output_type": "stream",
     "text": [
      "4 pourbaix entries could not be analyzed in system pH:8.5|V:-1.2|Fe-Ni\n"
     ]
    },
    {
     "name": "stderr",
     "output_type": "stream",
     "text": [
      "100%|██████████| 150/150 [00:00<00:00, 952.95it/s]\n",
      " 49%|████▉     | 125/253 [03:15<04:15,  2.00s/it]"
     ]
    },
    {
     "name": "stdout",
     "output_type": "stream",
     "text": [
      "4 pourbaix entries could not be analyzed in system pH:8.5|V:-1.2|Fe-Os\n"
     ]
    },
    {
     "name": "stderr",
     "output_type": "stream",
     "text": [
      "100%|██████████| 189/189 [00:00<00:00, 952.82it/s]\n",
      " 50%|████▉     | 126/253 [03:17<04:00,  1.89s/it]"
     ]
    },
    {
     "name": "stdout",
     "output_type": "stream",
     "text": [
      "5 pourbaix entries could not be analyzed in system pH:8.5|V:-1.2|Fe-Pb\n"
     ]
    },
    {
     "name": "stderr",
     "output_type": "stream",
     "text": [
      "100%|██████████| 156/156 [00:00<00:00, 793.22it/s]\n",
      " 50%|█████     | 127/253 [03:18<03:33,  1.70s/it]"
     ]
    },
    {
     "name": "stdout",
     "output_type": "stream",
     "text": [
      "4 pourbaix entries could not be analyzed in system pH:8.5|V:-1.2|Fe-Pd\n"
     ]
    },
    {
     "name": "stderr",
     "output_type": "stream",
     "text": [
      "100%|██████████| 190/190 [00:00<00:00, 837.04it/s]\n",
      " 51%|█████     | 128/253 [03:19<03:20,  1.60s/it]"
     ]
    },
    {
     "name": "stdout",
     "output_type": "stream",
     "text": [
      "4 pourbaix entries could not be analyzed in system pH:8.5|V:-1.2|Fe-Pt\n"
     ]
    },
    {
     "name": "stderr",
     "output_type": "stream",
     "text": [
      "100%|██████████| 169/169 [00:00<00:00, 980.02it/s]\n",
      " 51%|█████     | 129/253 [03:21<03:18,  1.60s/it]"
     ]
    },
    {
     "name": "stdout",
     "output_type": "stream",
     "text": [
      "7 pourbaix entries could not be analyzed in system pH:8.5|V:-1.2|Fe-Rh\n"
     ]
    },
    {
     "name": "stderr",
     "output_type": "stream",
     "text": [
      "100%|██████████| 150/150 [00:00<00:00, 956.64it/s]\n"
     ]
    },
    {
     "name": "stdout",
     "output_type": "stream",
     "text": [
      "3 pourbaix entries could not be analyzed in system pH:8.5|V:-1.2|Fe-Ru\n"
     ]
    },
    {
     "name": "stderr",
     "output_type": "stream",
     "text": [
      "100%|██████████| 224/224 [00:00<00:00, 951.72it/s]\n",
      " 52%|█████▏    | 131/253 [03:25<03:53,  1.92s/it]"
     ]
    },
    {
     "name": "stdout",
     "output_type": "stream",
     "text": [
      "5 pourbaix entries could not be analyzed in system pH:8.5|V:-1.2|Fe-Sn\n"
     ]
    },
    {
     "data": {
      "application/vnd.jupyter.widget-view+json": {
       "model_id": "a291d7c496ce4be4b2d439d98eefd5f0",
       "version_major": 2,
       "version_minor": 0
      },
      "text/plain": [
       "  0%|          | 0/504 [00:00<?, ?it/s]"
      ]
     },
     "metadata": {},
     "output_type": "display_data"
    },
    {
     "name": "stderr",
     "output_type": "stream",
     "text": [
      "\n",
      "\u001b[A\n",
      "\u001b[A\n",
      "\u001b[A\n",
      "100%|██████████| 306/306 [00:00<00:00, 959.11it/s]\n",
      " 52%|█████▏    | 132/253 [03:28<04:30,  2.24s/it]"
     ]
    },
    {
     "name": "stdout",
     "output_type": "stream",
     "text": [
      "5 pourbaix entries could not be analyzed in system pH:8.5|V:-1.2|Fe-V\n"
     ]
    },
    {
     "name": "stderr",
     "output_type": "stream",
     "text": [
      "\n",
      "\u001b[A\n",
      "100%|██████████| 188/188 [00:00<00:00, 988.71it/s] \n",
      " 53%|█████▎    | 133/253 [03:30<04:20,  2.17s/it]"
     ]
    },
    {
     "name": "stdout",
     "output_type": "stream",
     "text": [
      "3 pourbaix entries could not be analyzed in system pH:8.5|V:-1.2|Fe-Zn\n"
     ]
    },
    {
     "name": "stderr",
     "output_type": "stream",
     "text": [
      " 53%|█████▎    | 134/253 [03:32<03:46,  1.90s/it]\n",
      "\u001b[A\n",
      "100%|██████████| 100/100 [00:00<00:00, 787.60it/s]\n",
      " 53%|█████▎    | 135/253 [03:33<03:12,  1.63s/it]"
     ]
    },
    {
     "name": "stdout",
     "output_type": "stream",
     "text": [
      "1 pourbaix entries could not be analyzed in system pH:8.5|V:-1.2|Ga-In\n"
     ]
    },
    {
     "name": "stderr",
     "output_type": "stream",
     "text": [
      "\n",
      "\u001b[A\n",
      "100%|██████████| 105/105 [00:00<00:00, 843.89it/s]\n",
      " 54%|█████▍    | 136/253 [03:34<02:52,  1.47s/it]\n",
      "\u001b[A\n",
      "100%|██████████| 164/164 [00:00<00:00, 929.48it/s]\n",
      " 54%|█████▍    | 137/253 [03:35<02:44,  1.42s/it]"
     ]
    },
    {
     "name": "stdout",
     "output_type": "stream",
     "text": [
      "3 pourbaix entries could not be analyzed in system pH:8.5|V:-1.2|Ga-Mn\n"
     ]
    },
    {
     "name": "stderr",
     "output_type": "stream",
     "text": [
      "\n",
      "\u001b[A\n",
      "100%|██████████| 153/153 [00:00<00:00, 966.32it/s]\n",
      " 55%|█████▍    | 138/253 [03:36<02:46,  1.45s/it]"
     ]
    },
    {
     "name": "stdout",
     "output_type": "stream",
     "text": [
      "1 pourbaix entries could not be analyzed in system pH:8.5|V:-1.2|Ga-Mo\n"
     ]
    },
    {
     "name": "stderr",
     "output_type": "stream",
     "text": [
      "\n",
      "\u001b[A\n",
      "\u001b[A\n",
      "100%|██████████| 219/219 [00:00<00:00, 930.77it/s]\n"
     ]
    },
    {
     "name": "stdout",
     "output_type": "stream",
     "text": [
      "2 pourbaix entries could not be analyzed in system pH:8.5|V:-1.2|Ga-Ni\n"
     ]
    },
    {
     "name": "stderr",
     "output_type": "stream",
     "text": [
      " 55%|█████▍    | 139/253 [03:38<03:01,  1.59s/it]\n",
      "\u001b[A\n",
      "100%|██████████| 112/112 [00:00<00:00, 842.96it/s]\n"
     ]
    },
    {
     "name": "stdout",
     "output_type": "stream",
     "text": [
      "1 pourbaix entries could not be analyzed in system pH:8.5|V:-1.2|Ga-Os\n"
     ]
    },
    {
     "name": "stderr",
     "output_type": "stream",
     "text": [
      " 55%|█████▌    | 140/253 [03:40<02:54,  1.55s/it]\n",
      "\u001b[A\n",
      "100%|██████████| 106/106 [00:00<00:00, 786.91it/s]\n",
      " 56%|█████▌    | 141/253 [03:41<02:47,  1.50s/it]"
     ]
    },
    {
     "name": "stdout",
     "output_type": "stream",
     "text": [
      "2 pourbaix entries could not be analyzed in system pH:8.5|V:-1.2|Ga-Pb\n"
     ]
    },
    {
     "name": "stderr",
     "output_type": "stream",
     "text": [
      "\n",
      "\u001b[A\n",
      "100%|██████████| 124/124 [00:00<00:00, 834.02it/s]\n",
      " 56%|█████▌    | 142/253 [03:43<02:42,  1.46s/it]"
     ]
    },
    {
     "name": "stdout",
     "output_type": "stream",
     "text": [
      "1 pourbaix entries could not be analyzed in system pH:8.5|V:-1.2|Ga-Pd\n"
     ]
    },
    {
     "name": "stderr",
     "output_type": "stream",
     "text": [
      "\n",
      "\u001b[A\n",
      "100%|██████████| 148/148 [00:00<00:00, 837.62it/s]\n",
      " 57%|█████▋    | 143/253 [03:44<02:37,  1.43s/it]"
     ]
    },
    {
     "name": "stdout",
     "output_type": "stream",
     "text": [
      "2 pourbaix entries could not be analyzed in system pH:8.5|V:-1.2|Ga-Pt\n"
     ]
    },
    {
     "name": "stderr",
     "output_type": "stream",
     "text": [
      "\n",
      "\u001b[A\n",
      "100%|██████████| 121/121 [00:00<00:00, 835.17it/s]\n"
     ]
    },
    {
     "name": "stdout",
     "output_type": "stream",
     "text": [
      "4 pourbaix entries could not be analyzed in system pH:8.5|V:-1.2|Ga-Rh\n"
     ]
    },
    {
     "name": "stderr",
     "output_type": "stream",
     "text": [
      " 57%|█████▋    | 144/253 [03:45<02:36,  1.44s/it]\n",
      "\u001b[A\n",
      "100%|██████████| 103/103 [00:00<00:00, 784.10it/s]\n",
      " 57%|█████▋    | 145/253 [03:47<02:35,  1.44s/it]\n",
      "\u001b[A\n",
      "100%|██████████| 136/136 [00:00<00:00, 816.84it/s]\n"
     ]
    },
    {
     "name": "stdout",
     "output_type": "stream",
     "text": [
      "2 pourbaix entries could not be analyzed in system pH:8.5|V:-1.2|Ga-Sn\n"
     ]
    },
    {
     "name": "stderr",
     "output_type": "stream",
     "text": [
      " 58%|█████▊    | 146/253 [03:48<02:32,  1.43s/it]\n",
      "\u001b[A\n",
      "\u001b[A\n",
      "100%|██████████| 234/234 [00:00<00:00, 929.20it/s]\n",
      " 58%|█████▊    | 147/253 [03:50<02:42,  1.53s/it]"
     ]
    },
    {
     "name": "stdout",
     "output_type": "stream",
     "text": [
      "1 pourbaix entries could not be analyzed in system pH:8.5|V:-1.2|Ga-V\n"
     ]
    },
    {
     "name": "stderr",
     "output_type": "stream",
     "text": [
      "\n",
      "\u001b[A\n",
      "100%|██████████| 107/107 [00:00<00:00, 894.20it/s]\n",
      " 59%|█████▉    | 149/253 [03:52<02:04,  1.20s/it]\n",
      "\u001b[A\n",
      "100%|██████████| 85/85 [00:00<00:00, 821.88it/s]\n",
      " 59%|█████▉    | 150/253 [03:53<01:54,  1.12s/it]"
     ]
    },
    {
     "name": "stdout",
     "output_type": "stream",
     "text": [
      "3 pourbaix entries could not be analyzed in system pH:8.5|V:-1.2|In-Ir\n"
     ]
    },
    {
     "name": "stderr",
     "output_type": "stream",
     "text": [
      "\n",
      "\u001b[A\n",
      "\u001b[A\n",
      "100%|██████████| 179/179 [00:00<00:00, 865.25it/s]\n",
      " 60%|█████▉    | 151/253 [03:54<02:03,  1.21s/it]"
     ]
    },
    {
     "name": "stdout",
     "output_type": "stream",
     "text": [
      "3 pourbaix entries could not be analyzed in system pH:8.5|V:-1.2|In-Mn\n"
     ]
    },
    {
     "name": "stderr",
     "output_type": "stream",
     "text": [
      "\n",
      "\u001b[A\n",
      "100%|██████████| 135/135 [00:00<00:00, 971.91it/s]\n",
      " 60%|██████    | 152/253 [03:56<02:05,  1.25s/it]"
     ]
    },
    {
     "name": "stdout",
     "output_type": "stream",
     "text": [
      "2 pourbaix entries could not be analyzed in system pH:8.5|V:-1.2|In-Mo\n"
     ]
    },
    {
     "name": "stderr",
     "output_type": "stream",
     "text": [
      "\n",
      "\u001b[A\n",
      "\u001b[A\n",
      "100%|██████████| 159/159 [00:00<00:00, 669.07it/s]\n",
      " 60%|██████    | 153/253 [03:57<02:05,  1.26s/it]"
     ]
    },
    {
     "name": "stdout",
     "output_type": "stream",
     "text": [
      "3 pourbaix entries could not be analyzed in system pH:8.5|V:-1.2|In-Ni\n"
     ]
    },
    {
     "name": "stderr",
     "output_type": "stream",
     "text": [
      "\n",
      "100%|██████████| 86/86 [00:00<00:00, 981.59it/s]\n",
      " 61%|██████    | 154/253 [03:58<01:50,  1.11s/it]"
     ]
    },
    {
     "name": "stdout",
     "output_type": "stream",
     "text": [
      "3 pourbaix entries could not be analyzed in system pH:8.5|V:-1.2|In-Os\n"
     ]
    },
    {
     "name": "stderr",
     "output_type": "stream",
     "text": [
      "\n",
      "\u001b[A\n",
      "100%|██████████| 107/107 [00:00<00:00, 827.14it/s]\n",
      " 61%|██████▏   | 155/253 [03:59<01:56,  1.19s/it]"
     ]
    },
    {
     "name": "stdout",
     "output_type": "stream",
     "text": [
      "3 pourbaix entries could not be analyzed in system pH:8.5|V:-1.2|In-Pb\n"
     ]
    },
    {
     "name": "stderr",
     "output_type": "stream",
     "text": [
      "\n",
      "\u001b[A\n",
      "100%|██████████| 124/124 [00:00<00:00, 934.47it/s]\n",
      " 62%|██████▏   | 156/253 [04:00<01:52,  1.16s/it]"
     ]
    },
    {
     "name": "stdout",
     "output_type": "stream",
     "text": [
      "2 pourbaix entries could not be analyzed in system pH:8.5|V:-1.2|In-Pd\n"
     ]
    },
    {
     "name": "stderr",
     "output_type": "stream",
     "text": [
      "\n",
      "\u001b[A\n",
      "100%|██████████| 134/134 [00:00<00:00, 955.32it/s]\n",
      " 62%|██████▏   | 157/253 [04:01<01:50,  1.15s/it]"
     ]
    },
    {
     "name": "stdout",
     "output_type": "stream",
     "text": [
      "2 pourbaix entries could not be analyzed in system pH:8.5|V:-1.2|In-Pt\n"
     ]
    },
    {
     "name": "stderr",
     "output_type": "stream",
     "text": [
      "\n",
      "\u001b[A\n",
      "100%|██████████| 85/85 [00:00<00:00, 754.88it/s]\n",
      " 62%|██████▏   | 158/253 [04:02<01:46,  1.12s/it]"
     ]
    },
    {
     "name": "stdout",
     "output_type": "stream",
     "text": [
      "3 pourbaix entries could not be analyzed in system pH:8.5|V:-1.2|In-Rh\n"
     ]
    },
    {
     "name": "stderr",
     "output_type": "stream",
     "text": [
      "\n",
      "\u001b[A\n",
      "100%|██████████| 99/99 [00:00<00:00, 807.49it/s]\n"
     ]
    },
    {
     "name": "stdout",
     "output_type": "stream",
     "text": [
      "2 pourbaix entries could not be analyzed in system pH:8.5|V:-1.2|In-Ru\n"
     ]
    },
    {
     "name": "stderr",
     "output_type": "stream",
     "text": [
      " 63%|██████▎   | 159/253 [04:04<01:53,  1.21s/it]\n",
      "\u001b[A\n",
      "100%|██████████| 139/139 [00:00<00:00, 821.22it/s]\n",
      " 63%|██████▎   | 160/253 [04:05<01:54,  1.24s/it]"
     ]
    },
    {
     "name": "stdout",
     "output_type": "stream",
     "text": [
      "2 pourbaix entries could not be analyzed in system pH:8.5|V:-1.2|In-Sn\n"
     ]
    },
    {
     "name": "stderr",
     "output_type": "stream",
     "text": [
      "\n",
      "\u001b[A\n",
      "\u001b[A\n",
      "100%|██████████| 241/241 [00:00<00:00, 946.12it/s]\n",
      " 64%|██████▎   | 161/253 [04:07<02:04,  1.35s/it]"
     ]
    },
    {
     "name": "stdout",
     "output_type": "stream",
     "text": [
      "4 pourbaix entries could not be analyzed in system pH:8.5|V:-1.2|In-V\n"
     ]
    },
    {
     "name": "stderr",
     "output_type": "stream",
     "text": [
      "\n",
      "\u001b[A\n",
      "100%|██████████| 105/105 [00:00<00:00, 954.37it/s]\n",
      " 64%|██████▍   | 162/253 [04:08<01:57,  1.29s/it]"
     ]
    },
    {
     "name": "stdout",
     "output_type": "stream",
     "text": [
      "1 pourbaix entries could not be analyzed in system pH:8.5|V:-1.2|In-Zn\n"
     ]
    },
    {
     "name": "stderr",
     "output_type": "stream",
     "text": [
      " 64%|██████▍   | 163/253 [04:09<01:43,  1.15s/it]\n",
      "\u001b[A\n",
      "100%|██████████| 137/137 [00:00<00:00, 847.81it/s]\n",
      " 65%|██████▍   | 164/253 [04:10<01:38,  1.11s/it]"
     ]
    },
    {
     "name": "stdout",
     "output_type": "stream",
     "text": [
      "2 pourbaix entries could not be analyzed in system pH:8.5|V:-1.2|Ir-Mn\n"
     ]
    },
    {
     "name": "stderr",
     "output_type": "stream",
     "text": [
      "\n",
      "\u001b[A\n",
      "100%|██████████| 108/108 [00:00<00:00, 947.12it/s]\n",
      " 65%|██████▌   | 165/253 [04:11<01:34,  1.07s/it]"
     ]
    },
    {
     "name": "stdout",
     "output_type": "stream",
     "text": [
      "1 pourbaix entries could not be analyzed in system pH:8.5|V:-1.2|Ir-Mo\n"
     ]
    },
    {
     "name": "stderr",
     "output_type": "stream",
     "text": [
      "\n",
      "\u001b[A\n",
      "100%|██████████| 110/110 [00:00<00:00, 789.65it/s]\n",
      " 66%|██████▌   | 166/253 [04:12<01:39,  1.14s/it]"
     ]
    },
    {
     "name": "stdout",
     "output_type": "stream",
     "text": [
      "1 pourbaix entries could not be analyzed in system pH:8.5|V:-1.2|Ir-Ni\n"
     ]
    },
    {
     "name": "stderr",
     "output_type": "stream",
     "text": [
      "\n",
      "100%|██████████| 71/71 [00:00<00:00, 848.11it/s]\n",
      " 66%|██████▌   | 167/253 [04:13<01:50,  1.28s/it]\n",
      "\u001b[A\n",
      "100%|██████████| 99/99 [00:00<00:00, 756.14it/s]\n",
      " 66%|██████▋   | 168/253 [04:14<01:40,  1.18s/it]"
     ]
    },
    {
     "name": "stdout",
     "output_type": "stream",
     "text": [
      "2 pourbaix entries could not be analyzed in system pH:8.5|V:-1.2|Ir-Pb\n"
     ]
    },
    {
     "name": "stderr",
     "output_type": "stream",
     "text": [
      "\n",
      "100%|██████████| 68/68 [00:00<00:00, 809.45it/s]\n",
      " 67%|██████▋   | 169/253 [04:15<01:30,  1.07s/it]"
     ]
    },
    {
     "name": "stdout",
     "output_type": "stream",
     "text": [
      "1 pourbaix entries could not be analyzed in system pH:8.5|V:-1.2|Ir-Pd\n"
     ]
    },
    {
     "name": "stderr",
     "output_type": "stream",
     "text": [
      "\n",
      "100%|██████████| 67/67 [00:00<00:00, 768.46it/s]\n",
      " 67%|██████▋   | 170/253 [04:16<01:27,  1.05s/it]"
     ]
    },
    {
     "name": "stdout",
     "output_type": "stream",
     "text": [
      "1 pourbaix entries could not be analyzed in system pH:8.5|V:-1.2|Ir-Pt\n"
     ]
    },
    {
     "name": "stderr",
     "output_type": "stream",
     "text": [
      "\n",
      "\u001b[A\n",
      "100%|██████████| 85/85 [00:00<00:00, 800.25it/s]\n"
     ]
    },
    {
     "name": "stdout",
     "output_type": "stream",
     "text": [
      "3 pourbaix entries could not be analyzed in system pH:8.5|V:-1.2|Ir-Rh\n"
     ]
    },
    {
     "name": "stderr",
     "output_type": "stream",
     "text": [
      " 68%|██████▊   | 171/253 [04:18<01:35,  1.16s/it]\n",
      "100%|██████████| 75/75 [00:00<00:00, 808.28it/s]\n",
      " 68%|██████▊   | 172/253 [04:18<01:25,  1.05s/it]\n",
      "\u001b[A\n",
      "100%|██████████| 109/109 [00:00<00:00, 839.89it/s]\n",
      " 68%|██████▊   | 173/253 [04:19<01:21,  1.02s/it]"
     ]
    },
    {
     "name": "stdout",
     "output_type": "stream",
     "text": [
      "1 pourbaix entries could not be analyzed in system pH:8.5|V:-1.2|Ir-Sn\n"
     ]
    },
    {
     "name": "stderr",
     "output_type": "stream",
     "text": [
      "\n",
      "\u001b[A\n",
      "\u001b[A\n",
      "100%|██████████| 199/199 [00:00<00:00, 898.65it/s]\n",
      " 69%|██████▉   | 174/253 [04:21<01:28,  1.12s/it]"
     ]
    },
    {
     "name": "stdout",
     "output_type": "stream",
     "text": [
      "1 pourbaix entries could not be analyzed in system pH:8.5|V:-1.2|Ir-V\n"
     ]
    },
    {
     "name": "stderr",
     "output_type": "stream",
     "text": [
      "\n",
      "100%|██████████| 75/75 [00:00<00:00, 938.84it/s]\n",
      " 70%|██████▉   | 176/253 [04:23<01:31,  1.19s/it]\n",
      "\u001b[A\n",
      "\u001b[A\n",
      "100%|██████████| 206/206 [00:00<00:00, 951.97it/s]\n",
      " 70%|██████▉   | 177/253 [04:25<01:37,  1.28s/it]"
     ]
    },
    {
     "name": "stdout",
     "output_type": "stream",
     "text": [
      "3 pourbaix entries could not be analyzed in system pH:8.5|V:-1.2|Mn-Mo\n"
     ]
    },
    {
     "name": "stderr",
     "output_type": "stream",
     "text": [
      "\n",
      "\u001b[A\n",
      "\u001b[A\n",
      "100%|██████████| 233/233 [00:00<00:00, 863.04it/s]\n",
      " 70%|███████   | 178/253 [04:27<01:49,  1.45s/it]"
     ]
    },
    {
     "name": "stdout",
     "output_type": "stream",
     "text": [
      "4 pourbaix entries could not be analyzed in system pH:8.5|V:-1.2|Mn-Ni\n"
     ]
    },
    {
     "name": "stderr",
     "output_type": "stream",
     "text": [
      "\n",
      "\u001b[A\n",
      "100%|██████████| 138/138 [00:00<00:00, 953.58it/s]\n",
      " 71%|███████   | 179/253 [04:28<01:41,  1.37s/it]"
     ]
    },
    {
     "name": "stdout",
     "output_type": "stream",
     "text": [
      "2 pourbaix entries could not be analyzed in system pH:8.5|V:-1.2|Mn-Os\n"
     ]
    },
    {
     "name": "stderr",
     "output_type": "stream",
     "text": [
      "\n",
      "\u001b[A\n",
      "100%|██████████| 186/186 [00:00<00:00, 904.95it/s]\n",
      " 71%|███████   | 180/253 [04:29<01:47,  1.48s/it]"
     ]
    },
    {
     "name": "stdout",
     "output_type": "stream",
     "text": [
      "4 pourbaix entries could not be analyzed in system pH:8.5|V:-1.2|Mn-Pb\n"
     ]
    },
    {
     "name": "stderr",
     "output_type": "stream",
     "text": [
      "\n",
      "\u001b[A\n",
      "100%|██████████| 155/155 [00:00<00:00, 936.26it/s]\n",
      " 72%|███████▏  | 181/253 [04:31<01:45,  1.46s/it]"
     ]
    },
    {
     "name": "stdout",
     "output_type": "stream",
     "text": [
      "3 pourbaix entries could not be analyzed in system pH:8.5|V:-1.2|Mn-Pd\n"
     ]
    },
    {
     "name": "stderr",
     "output_type": "stream",
     "text": [
      "\n",
      "\u001b[A\n",
      "100%|██████████| 169/169 [00:00<00:00, 946.83it/s]\n",
      " 72%|███████▏  | 182/253 [04:32<01:35,  1.35s/it]"
     ]
    },
    {
     "name": "stdout",
     "output_type": "stream",
     "text": [
      "3 pourbaix entries could not be analyzed in system pH:8.5|V:-1.2|Mn-Pt\n"
     ]
    },
    {
     "name": "stderr",
     "output_type": "stream",
     "text": [
      "\n",
      "\u001b[A\n",
      "100%|██████████| 142/142 [00:00<00:00, 856.23it/s]\n"
     ]
    },
    {
     "name": "stdout",
     "output_type": "stream",
     "text": [
      "5 pourbaix entries could not be analyzed in system pH:8.5|V:-1.2|Mn-Rh\n"
     ]
    },
    {
     "name": "stderr",
     "output_type": "stream",
     "text": [
      " 72%|███████▏  | 183/253 [04:33<01:33,  1.33s/it]\n",
      "\u001b[A\n",
      "100%|██████████| 147/147 [00:00<00:00, 820.59it/s]\n",
      " 73%|███████▎  | 184/253 [04:35<01:32,  1.34s/it]"
     ]
    },
    {
     "name": "stdout",
     "output_type": "stream",
     "text": [
      "4 pourbaix entries could not be analyzed in system pH:8.5|V:-1.2|Mn-Ru\n"
     ]
    },
    {
     "name": "stderr",
     "output_type": "stream",
     "text": [
      "\n",
      "\u001b[A\n",
      "\u001b[A\n",
      "100%|██████████| 191/191 [00:00<00:00, 833.36it/s]\n",
      " 73%|███████▎  | 185/253 [04:36<01:37,  1.43s/it]"
     ]
    },
    {
     "name": "stdout",
     "output_type": "stream",
     "text": [
      "4 pourbaix entries could not be analyzed in system pH:8.5|V:-1.2|Mn-Sn\n"
     ]
    },
    {
     "name": "stderr",
     "output_type": "stream",
     "text": [
      "\n",
      "\u001b[A\n",
      "\u001b[A\n",
      "\u001b[A\n",
      "100%|██████████| 299/299 [00:00<00:00, 851.22it/s]\n",
      " 74%|███████▎  | 186/253 [04:38<01:49,  1.63s/it]"
     ]
    },
    {
     "name": "stdout",
     "output_type": "stream",
     "text": [
      "3 pourbaix entries could not be analyzed in system pH:8.5|V:-1.2|Mn-V\n"
     ]
    },
    {
     "name": "stderr",
     "output_type": "stream",
     "text": [
      "\n",
      "\u001b[A\n",
      "100%|██████████| 161/161 [00:00<00:00, 914.03it/s]\n",
      " 74%|███████▍  | 187/253 [04:40<01:52,  1.70s/it]"
     ]
    },
    {
     "name": "stdout",
     "output_type": "stream",
     "text": [
      "2 pourbaix entries could not be analyzed in system pH:8.5|V:-1.2|Mn-Zn\n"
     ]
    },
    {
     "name": "stderr",
     "output_type": "stream",
     "text": [
      " 74%|███████▍  | 188/253 [04:41<01:36,  1.48s/it]\n",
      "\u001b[A\n",
      "100%|██████████| 162/162 [00:00<00:00, 873.67it/s]\n",
      " 75%|███████▍  | 189/253 [04:43<01:39,  1.56s/it]"
     ]
    },
    {
     "name": "stdout",
     "output_type": "stream",
     "text": [
      "2 pourbaix entries could not be analyzed in system pH:8.5|V:-1.2|Mo-Ni\n"
     ]
    },
    {
     "name": "stderr",
     "output_type": "stream",
     "text": [
      "\n",
      "\u001b[A\n",
      "100%|██████████| 105/105 [00:00<00:00, 810.24it/s]\n",
      " 75%|███████▌  | 190/253 [04:44<01:35,  1.52s/it]"
     ]
    },
    {
     "name": "stdout",
     "output_type": "stream",
     "text": [
      "1 pourbaix entries could not be analyzed in system pH:8.5|V:-1.2|Mo-Os\n"
     ]
    },
    {
     "name": "stderr",
     "output_type": "stream",
     "text": [
      "\n",
      "\u001b[A\n",
      "100%|██████████| 141/141 [00:00<00:00, 892.51it/s]\n",
      " 75%|███████▌  | 191/253 [04:46<01:31,  1.48s/it]"
     ]
    },
    {
     "name": "stdout",
     "output_type": "stream",
     "text": [
      "3 pourbaix entries could not be analyzed in system pH:8.5|V:-1.2|Mo-Pb\n"
     ]
    },
    {
     "name": "stderr",
     "output_type": "stream",
     "text": [
      "\n",
      "\u001b[A\n",
      "100%|██████████| 106/106 [00:00<00:00, 760.52it/s]\n",
      " 76%|███████▌  | 192/253 [04:47<01:26,  1.41s/it]"
     ]
    },
    {
     "name": "stdout",
     "output_type": "stream",
     "text": [
      "2 pourbaix entries could not be analyzed in system pH:8.5|V:-1.2|Mo-Pd\n"
     ]
    },
    {
     "name": "stderr",
     "output_type": "stream",
     "text": [
      "\n",
      "\u001b[A\n",
      "100%|██████████| 115/115 [00:00<00:00, 869.51it/s]\n"
     ]
    },
    {
     "name": "stdout",
     "output_type": "stream",
     "text": [
      "2 pourbaix entries could not be analyzed in system pH:8.5|V:-1.2|Mo-Pt\n"
     ]
    },
    {
     "name": "stderr",
     "output_type": "stream",
     "text": [
      " 76%|███████▋  | 193/253 [04:48<01:24,  1.42s/it]\n",
      "\u001b[A\n",
      "100%|██████████| 131/131 [00:00<00:00, 819.90it/s]\n",
      " 77%|███████▋  | 194/253 [04:50<01:22,  1.39s/it]"
     ]
    },
    {
     "name": "stdout",
     "output_type": "stream",
     "text": [
      "4 pourbaix entries could not be analyzed in system pH:8.5|V:-1.2|Mo-Rh\n"
     ]
    },
    {
     "name": "stderr",
     "output_type": "stream",
     "text": [
      "\n",
      "\u001b[A\n",
      "100%|██████████| 116/116 [00:00<00:00, 822.05it/s]\n"
     ]
    },
    {
     "name": "stdout",
     "output_type": "stream",
     "text": [
      "3 pourbaix entries could not be analyzed in system pH:8.5|V:-1.2|Mo-Ru\n"
     ]
    },
    {
     "name": "stderr",
     "output_type": "stream",
     "text": [
      " 77%|███████▋  | 195/253 [04:51<01:20,  1.39s/it]\n",
      "\u001b[A\n",
      "100%|██████████| 141/141 [00:00<00:00, 879.74it/s]\n",
      " 77%|███████▋  | 196/253 [04:53<01:20,  1.42s/it]"
     ]
    },
    {
     "name": "stdout",
     "output_type": "stream",
     "text": [
      "2 pourbaix entries could not be analyzed in system pH:8.5|V:-1.2|Mo-Sn\n"
     ]
    },
    {
     "name": "stderr",
     "output_type": "stream",
     "text": [
      "\n",
      "\u001b[A\n",
      "\u001b[A\n",
      "100%|██████████| 237/237 [00:00<00:00, 938.50it/s]\n",
      " 78%|███████▊  | 197/253 [04:55<01:29,  1.61s/it]"
     ]
    },
    {
     "name": "stdout",
     "output_type": "stream",
     "text": [
      "2 pourbaix entries could not be analyzed in system pH:8.5|V:-1.2|Mo-V\n"
     ]
    },
    {
     "name": "stderr",
     "output_type": "stream",
     "text": [
      "\n",
      "\u001b[A\n",
      "100%|██████████| 108/108 [00:00<00:00, 891.93it/s]\n",
      " 78%|███████▊  | 198/253 [04:56<01:19,  1.44s/it]"
     ]
    },
    {
     "name": "stdout",
     "output_type": "stream",
     "text": [
      "1 pourbaix entries could not be analyzed in system pH:8.5|V:-1.2|Mo-Zn\n"
     ]
    },
    {
     "name": "stderr",
     "output_type": "stream",
     "text": [
      " 79%|███████▊  | 199/253 [04:57<01:13,  1.36s/it]\n",
      "\u001b[A\n",
      "100%|██████████| 123/123 [00:00<00:00, 848.09it/s]\n",
      " 79%|███████▉  | 200/253 [04:58<01:10,  1.33s/it]"
     ]
    },
    {
     "name": "stdout",
     "output_type": "stream",
     "text": [
      "2 pourbaix entries could not be analyzed in system pH:8.5|V:-1.2|Ni-Os\n"
     ]
    },
    {
     "name": "stderr",
     "output_type": "stream",
     "text": [
      "\n",
      "\u001b[A\n",
      "\u001b[A\n",
      "100%|██████████| 199/199 [00:00<00:00, 904.85it/s]\n",
      " 79%|███████▉  | 201/253 [04:59<01:08,  1.33s/it]"
     ]
    },
    {
     "name": "stdout",
     "output_type": "stream",
     "text": [
      "3 pourbaix entries could not be analyzed in system pH:8.5|V:-1.2|Ni-Pb\n"
     ]
    },
    {
     "name": "stderr",
     "output_type": "stream",
     "text": [
      "\n",
      "\u001b[A\n",
      "100%|██████████| 111/111 [00:00<00:00, 925.93it/s]\n"
     ]
    },
    {
     "name": "stdout",
     "output_type": "stream",
     "text": [
      "3 pourbaix entries could not be analyzed in system pH:8.5|V:-1.2|Ni-Pd\n"
     ]
    },
    {
     "name": "stderr",
     "output_type": "stream",
     "text": [
      " 80%|███████▉  | 202/253 [05:01<01:06,  1.31s/it]\n",
      "\u001b[A\n",
      "100%|██████████| 152/152 [00:00<00:00, 878.90it/s]\n",
      " 80%|████████  | 203/253 [05:02<01:06,  1.33s/it]"
     ]
    },
    {
     "name": "stdout",
     "output_type": "stream",
     "text": [
      "2 pourbaix entries could not be analyzed in system pH:8.5|V:-1.2|Ni-Pt\n"
     ]
    },
    {
     "name": "stderr",
     "output_type": "stream",
     "text": [
      "\n",
      "\u001b[A\n",
      "100%|██████████| 126/126 [00:00<00:00, 799.55it/s]\n",
      " 81%|████████  | 204/253 [05:04<01:06,  1.36s/it]"
     ]
    },
    {
     "name": "stdout",
     "output_type": "stream",
     "text": [
      "5 pourbaix entries could not be analyzed in system pH:8.5|V:-1.2|Ni-Rh\n"
     ]
    },
    {
     "name": "stderr",
     "output_type": "stream",
     "text": [
      "\n",
      "\u001b[A\n",
      "100%|██████████| 128/128 [00:00<00:00, 861.98it/s]\n",
      " 81%|████████  | 205/253 [05:05<01:04,  1.34s/it]"
     ]
    },
    {
     "name": "stdout",
     "output_type": "stream",
     "text": [
      "4 pourbaix entries could not be analyzed in system pH:8.5|V:-1.2|Ni-Ru\n"
     ]
    },
    {
     "name": "stderr",
     "output_type": "stream",
     "text": [
      "\n",
      "\u001b[A\n",
      "\u001b[A\n",
      "100%|██████████| 213/213 [00:00<00:00, 908.33it/s]\n",
      " 81%|████████▏ | 206/253 [05:07<01:11,  1.53s/it]"
     ]
    },
    {
     "name": "stdout",
     "output_type": "stream",
     "text": [
      "2 pourbaix entries could not be analyzed in system pH:8.5|V:-1.2|Ni-Sn\n"
     ]
    },
    {
     "name": "stderr",
     "output_type": "stream",
     "text": [
      "\n",
      "\u001b[A\n",
      "\u001b[A\n",
      "100%|██████████| 276/276 [00:00<00:00, 957.88it/s]\n",
      " 82%|████████▏ | 207/253 [05:09<01:12,  1.58s/it]"
     ]
    },
    {
     "name": "stdout",
     "output_type": "stream",
     "text": [
      "2 pourbaix entries could not be analyzed in system pH:8.5|V:-1.2|Ni-V\n"
     ]
    },
    {
     "name": "stderr",
     "output_type": "stream",
     "text": [
      "\n",
      "\u001b[A\n",
      "100%|██████████| 186/186 [00:00<00:00, 917.24it/s]\n",
      " 82%|████████▏ | 208/253 [05:10<01:07,  1.51s/it]"
     ]
    },
    {
     "name": "stdout",
     "output_type": "stream",
     "text": [
      "2 pourbaix entries could not be analyzed in system pH:8.5|V:-1.2|Ni-Zn\n"
     ]
    },
    {
     "name": "stderr",
     "output_type": "stream",
     "text": [
      " 83%|████████▎ | 209/253 [05:11<00:57,  1.31s/it]\n",
      "\u001b[A\n",
      "100%|██████████| 120/120 [00:00<00:00, 807.08it/s]\n",
      " 83%|████████▎ | 210/253 [05:12<00:57,  1.34s/it]"
     ]
    },
    {
     "name": "stdout",
     "output_type": "stream",
     "text": [
      "2 pourbaix entries could not be analyzed in system pH:8.5|V:-1.2|Os-Pb\n"
     ]
    },
    {
     "name": "stderr",
     "output_type": "stream",
     "text": [
      "\n",
      "100%|██████████| 77/77 [00:00<00:00, 815.72it/s]\n",
      " 83%|████████▎ | 211/253 [05:13<00:51,  1.23s/it]"
     ]
    },
    {
     "name": "stdout",
     "output_type": "stream",
     "text": [
      "1 pourbaix entries could not be analyzed in system pH:8.5|V:-1.2|Os-Pd\n"
     ]
    },
    {
     "name": "stderr",
     "output_type": "stream",
     "text": [
      "\n",
      "100%|██████████| 82/82 [00:00<00:00, 854.49it/s]\n"
     ]
    },
    {
     "name": "stdout",
     "output_type": "stream",
     "text": [
      "1 pourbaix entries could not be analyzed in system pH:8.5|V:-1.2|Os-Pt\n"
     ]
    },
    {
     "name": "stderr",
     "output_type": "stream",
     "text": [
      " 84%|████████▍ | 212/253 [05:15<00:56,  1.38s/it]\n",
      "100%|██████████| 71/71 [00:00<00:00, 853.26it/s]\n",
      " 84%|████████▍ | 213/253 [05:16<00:48,  1.21s/it]"
     ]
    },
    {
     "name": "stdout",
     "output_type": "stream",
     "text": [
      "3 pourbaix entries could not be analyzed in system pH:8.5|V:-1.2|Os-Rh\n"
     ]
    },
    {
     "name": "stderr",
     "output_type": "stream",
     "text": [
      "\n",
      "100%|██████████| 78/78 [00:00<00:00, 839.46it/s]\n",
      " 85%|████████▍ | 214/253 [05:17<00:43,  1.11s/it]\n",
      "\u001b[A\n",
      "100%|██████████| 113/113 [00:00<00:00, 800.42it/s]\n",
      " 85%|████████▍ | 215/253 [05:18<00:41,  1.10s/it]"
     ]
    },
    {
     "name": "stdout",
     "output_type": "stream",
     "text": [
      "1 pourbaix entries could not be analyzed in system pH:8.5|V:-1.2|Os-Sn\n"
     ]
    },
    {
     "name": "stderr",
     "output_type": "stream",
     "text": [
      "\n",
      "\u001b[A\n",
      "\u001b[A\n",
      "100%|██████████| 209/209 [00:00<00:00, 947.20it/s]\n",
      " 85%|████████▌ | 216/253 [05:19<00:44,  1.20s/it]"
     ]
    },
    {
     "name": "stdout",
     "output_type": "stream",
     "text": [
      "2 pourbaix entries could not be analyzed in system pH:8.5|V:-1.2|Os-V\n"
     ]
    },
    {
     "name": "stderr",
     "output_type": "stream",
     "text": [
      "\n",
      "100%|██████████| 85/85 [00:00<00:00, 962.88it/s]\n",
      " 86%|████████▌ | 218/253 [05:21<00:39,  1.12s/it]\n",
      "\u001b[A\n",
      "100%|██████████| 143/143 [00:00<00:00, 825.40it/s]\n",
      " 87%|████████▋ | 219/253 [05:22<00:39,  1.16s/it]"
     ]
    },
    {
     "name": "stdout",
     "output_type": "stream",
     "text": [
      "3 pourbaix entries could not be analyzed in system pH:8.5|V:-1.2|Pb-Pd\n"
     ]
    },
    {
     "name": "stderr",
     "output_type": "stream",
     "text": [
      "\n",
      "\u001b[A\n",
      "100%|██████████| 129/129 [00:00<00:00, 915.44it/s]\n",
      " 87%|████████▋ | 220/253 [05:24<00:38,  1.16s/it]"
     ]
    },
    {
     "name": "stdout",
     "output_type": "stream",
     "text": [
      "3 pourbaix entries could not be analyzed in system pH:8.5|V:-1.2|Pb-Pt\n"
     ]
    },
    {
     "name": "stderr",
     "output_type": "stream",
     "text": [
      "\n",
      "\u001b[A\n",
      "100%|██████████| 152/152 [00:00<00:00, 802.09it/s]\n",
      " 87%|████████▋ | 221/253 [05:25<00:36,  1.15s/it]"
     ]
    },
    {
     "name": "stdout",
     "output_type": "stream",
     "text": [
      "6 pourbaix entries could not be analyzed in system pH:8.5|V:-1.2|Pb-Rh\n"
     ]
    },
    {
     "name": "stderr",
     "output_type": "stream",
     "text": [
      "\n",
      "\u001b[A\n",
      "100%|██████████| 111/111 [00:00<00:00, 947.39it/s]\n",
      " 88%|████████▊ | 222/253 [05:26<00:35,  1.13s/it]"
     ]
    },
    {
     "name": "stdout",
     "output_type": "stream",
     "text": [
      "2 pourbaix entries could not be analyzed in system pH:8.5|V:-1.2|Pb-Ru\n"
     ]
    },
    {
     "name": "stderr",
     "output_type": "stream",
     "text": [
      "\n",
      "\u001b[A\n",
      "100%|██████████| 146/146 [00:00<00:00, 874.74it/s]\n",
      " 88%|████████▊ | 223/253 [05:27<00:36,  1.22s/it]"
     ]
    },
    {
     "name": "stdout",
     "output_type": "stream",
     "text": [
      "5 pourbaix entries could not be analyzed in system pH:8.5|V:-1.2|Pb-Sn\n"
     ]
    },
    {
     "name": "stderr",
     "output_type": "stream",
     "text": [
      "\n",
      "\u001b[A\n",
      "\u001b[A\n",
      "100%|██████████| 224/224 [00:00<00:00, 870.38it/s]\n",
      " 89%|████████▊ | 224/253 [05:29<00:38,  1.34s/it]"
     ]
    },
    {
     "name": "stdout",
     "output_type": "stream",
     "text": [
      "3 pourbaix entries could not be analyzed in system pH:8.5|V:-1.2|Pb-V\n"
     ]
    },
    {
     "name": "stderr",
     "output_type": "stream",
     "text": [
      "\n",
      "\u001b[A\n",
      "100%|██████████| 106/106 [00:00<00:00, 803.71it/s]\n",
      " 89%|████████▉ | 225/253 [05:30<00:35,  1.25s/it]"
     ]
    },
    {
     "name": "stdout",
     "output_type": "stream",
     "text": [
      "2 pourbaix entries could not be analyzed in system pH:8.5|V:-1.2|Pb-Zn\n"
     ]
    },
    {
     "name": "stderr",
     "output_type": "stream",
     "text": [
      " 89%|████████▉ | 226/253 [05:31<00:29,  1.10s/it]\n",
      "\u001b[A\n",
      "100%|██████████| 95/95 [00:00<00:00, 824.76it/s]\n",
      " 90%|████████▉ | 227/253 [05:32<00:27,  1.07s/it]"
     ]
    },
    {
     "name": "stdout",
     "output_type": "stream",
     "text": [
      "2 pourbaix entries could not be analyzed in system pH:8.5|V:-1.2|Pd-Pt\n"
     ]
    },
    {
     "name": "stderr",
     "output_type": "stream",
     "text": [
      "\n",
      "\u001b[A\n",
      "100%|██████████| 99/99 [00:00<00:00, 809.37it/s]\n",
      " 90%|█████████ | 228/253 [05:33<00:25,  1.04s/it]"
     ]
    },
    {
     "name": "stdout",
     "output_type": "stream",
     "text": [
      "4 pourbaix entries could not be analyzed in system pH:8.5|V:-1.2|Pd-Rh\n"
     ]
    },
    {
     "name": "stderr",
     "output_type": "stream",
     "text": [
      "\n",
      "\u001b[A\n",
      "100%|██████████| 94/94 [00:00<00:00, 789.10it/s]\n"
     ]
    },
    {
     "name": "stdout",
     "output_type": "stream",
     "text": [
      "3 pourbaix entries could not be analyzed in system pH:8.5|V:-1.2|Pd-Ru\n"
     ]
    },
    {
     "name": "stderr",
     "output_type": "stream",
     "text": [
      " 91%|█████████ | 229/253 [05:34<00:27,  1.16s/it]\n",
      "\u001b[A\n",
      "100%|██████████| 153/153 [00:00<00:00, 778.47it/s]\n",
      " 91%|█████████ | 230/253 [05:35<00:28,  1.25s/it]"
     ]
    },
    {
     "name": "stdout",
     "output_type": "stream",
     "text": [
      "2 pourbaix entries could not be analyzed in system pH:8.5|V:-1.2|Pd-Sn\n"
     ]
    },
    {
     "name": "stderr",
     "output_type": "stream",
     "text": [
      "\n",
      "\u001b[A\n",
      "\u001b[A\n",
      "100%|██████████| 206/206 [00:00<00:00, 918.18it/s]\n",
      " 91%|█████████▏| 231/253 [05:37<00:31,  1.43s/it]"
     ]
    },
    {
     "name": "stdout",
     "output_type": "stream",
     "text": [
      "2 pourbaix entries could not be analyzed in system pH:8.5|V:-1.2|Pd-V\n"
     ]
    },
    {
     "name": "stderr",
     "output_type": "stream",
     "text": [
      "\n",
      "\u001b[A\n",
      "100%|██████████| 118/118 [00:00<00:00, 933.79it/s]\n"
     ]
    },
    {
     "name": "stdout",
     "output_type": "stream",
     "text": [
      "1 pourbaix entries could not be analyzed in system pH:8.5|V:-1.2|Pd-Zn\n"
     ]
    },
    {
     "name": "stderr",
     "output_type": "stream",
     "text": [
      " 92%|█████████▏| 233/253 [05:39<00:23,  1.16s/it]\n",
      "\u001b[A\n",
      "100%|██████████| 116/116 [00:00<00:00, 778.43it/s]\n",
      " 92%|█████████▏| 234/253 [05:40<00:20,  1.10s/it]"
     ]
    },
    {
     "name": "stdout",
     "output_type": "stream",
     "text": [
      "4 pourbaix entries could not be analyzed in system pH:8.5|V:-1.2|Pt-Rh\n"
     ]
    },
    {
     "name": "stderr",
     "output_type": "stream",
     "text": [
      "\n",
      "\u001b[A\n",
      "100%|██████████| 95/95 [00:00<00:00, 822.34it/s]\n",
      " 93%|█████████▎| 235/253 [05:42<00:22,  1.22s/it]"
     ]
    },
    {
     "name": "stdout",
     "output_type": "stream",
     "text": [
      "2 pourbaix entries could not be analyzed in system pH:8.5|V:-1.2|Pt-Ru\n"
     ]
    },
    {
     "name": "stderr",
     "output_type": "stream",
     "text": [
      "\n",
      "\u001b[A\n",
      "100%|██████████| 148/148 [00:00<00:00, 814.87it/s]\n",
      " 93%|█████████▎| 236/253 [05:43<00:21,  1.26s/it]"
     ]
    },
    {
     "name": "stdout",
     "output_type": "stream",
     "text": [
      "2 pourbaix entries could not be analyzed in system pH:8.5|V:-1.2|Pt-Sn\n"
     ]
    },
    {
     "name": "stderr",
     "output_type": "stream",
     "text": [
      "\n",
      "\u001b[A\n",
      "\u001b[A\n",
      "100%|██████████| 235/235 [00:00<00:00, 948.34it/s]\n",
      " 94%|█████████▎| 237/253 [05:45<00:23,  1.46s/it]"
     ]
    },
    {
     "name": "stdout",
     "output_type": "stream",
     "text": [
      "2 pourbaix entries could not be analyzed in system pH:8.5|V:-1.2|Pt-V\n"
     ]
    },
    {
     "name": "stderr",
     "output_type": "stream",
     "text": [
      "\n",
      "\u001b[A\n",
      "100%|██████████| 125/125 [00:00<00:00, 935.48it/s]\n",
      " 94%|█████████▍| 238/253 [05:46<00:20,  1.40s/it]"
     ]
    },
    {
     "name": "stdout",
     "output_type": "stream",
     "text": [
      "1 pourbaix entries could not be analyzed in system pH:8.5|V:-1.2|Pt-Zn\n"
     ]
    },
    {
     "name": "stderr",
     "output_type": "stream",
     "text": [
      " 94%|█████████▍| 239/253 [05:47<00:17,  1.22s/it]\n",
      "\u001b[A\n",
      "100%|██████████| 88/88 [00:00<00:00, 824.60it/s]\n",
      " 95%|█████████▍| 240/253 [05:48<00:14,  1.13s/it]"
     ]
    },
    {
     "name": "stdout",
     "output_type": "stream",
     "text": [
      "4 pourbaix entries could not be analyzed in system pH:8.5|V:-1.2|Rh-Ru\n"
     ]
    },
    {
     "name": "stderr",
     "output_type": "stream",
     "text": [
      "\n",
      "\u001b[A\n",
      "100%|██████████| 141/141 [00:00<00:00, 824.78it/s]\n",
      " 95%|█████████▌| 241/253 [05:49<00:13,  1.11s/it]"
     ]
    },
    {
     "name": "stdout",
     "output_type": "stream",
     "text": [
      "4 pourbaix entries could not be analyzed in system pH:8.5|V:-1.2|Rh-Sn\n"
     ]
    },
    {
     "name": "stderr",
     "output_type": "stream",
     "text": [
      "\n",
      "\u001b[A\n",
      "\u001b[A\n",
      "100%|██████████| 218/218 [00:00<00:00, 843.85it/s]\n",
      " 96%|█████████▌| 242/253 [05:51<00:13,  1.25s/it]"
     ]
    },
    {
     "name": "stdout",
     "output_type": "stream",
     "text": [
      "3 pourbaix entries could not be analyzed in system pH:8.5|V:-1.2|Rh-V\n"
     ]
    },
    {
     "name": "stderr",
     "output_type": "stream",
     "text": [
      "\n",
      "\u001b[A\n",
      "100%|██████████| 111/111 [00:00<00:00, 966.93it/s]\n",
      " 96%|█████████▌| 243/253 [05:51<00:11,  1.16s/it]"
     ]
    },
    {
     "name": "stdout",
     "output_type": "stream",
     "text": [
      "2 pourbaix entries could not be analyzed in system pH:8.5|V:-1.2|Rh-Zn\n"
     ]
    },
    {
     "name": "stderr",
     "output_type": "stream",
     "text": [
      " 96%|█████████▋| 244/253 [05:52<00:10,  1.11s/it]\n",
      "\u001b[A\n",
      "100%|██████████| 111/111 [00:00<00:00, 832.90it/s]\n",
      " 97%|█████████▋| 245/253 [05:53<00:08,  1.06s/it]"
     ]
    },
    {
     "name": "stdout",
     "output_type": "stream",
     "text": [
      "1 pourbaix entries could not be analyzed in system pH:8.5|V:-1.2|Ru-Sn\n"
     ]
    },
    {
     "name": "stderr",
     "output_type": "stream",
     "text": [
      "\n",
      "\u001b[A\n",
      "\u001b[A\n",
      "100%|██████████| 227/227 [00:00<00:00, 920.83it/s]\n",
      " 97%|█████████▋| 246/253 [05:55<00:08,  1.18s/it]"
     ]
    },
    {
     "name": "stdout",
     "output_type": "stream",
     "text": [
      "1 pourbaix entries could not be analyzed in system pH:8.5|V:-1.2|Ru-V\n"
     ]
    },
    {
     "name": "stderr",
     "output_type": "stream",
     "text": [
      "\n",
      "\u001b[A\n",
      "100%|██████████| 98/98 [00:00<00:00, 899.24it/s]\n",
      " 98%|█████████▊| 248/253 [05:57<00:05,  1.08s/it]\n",
      "\u001b[A\n",
      "\u001b[A\n",
      "100%|██████████| 232/232 [00:00<00:00, 943.90it/s]\n",
      " 98%|█████████▊| 249/253 [05:59<00:05,  1.34s/it]"
     ]
    },
    {
     "name": "stdout",
     "output_type": "stream",
     "text": [
      "2 pourbaix entries could not be analyzed in system pH:8.5|V:-1.2|Sn-V\n"
     ]
    },
    {
     "name": "stderr",
     "output_type": "stream",
     "text": [
      "\n",
      "\u001b[A\n",
      "100%|██████████| 120/120 [00:00<00:00, 950.04it/s]\n",
      " 99%|█████████▉| 250/253 [06:00<00:03,  1.28s/it]"
     ]
    },
    {
     "name": "stdout",
     "output_type": "stream",
     "text": [
      "1 pourbaix entries could not be analyzed in system pH:8.5|V:-1.2|Sn-Zn\n"
     ]
    },
    {
     "name": "stderr",
     "output_type": "stream",
     "text": [
      " 99%|█████████▉| 251/253 [06:02<00:02,  1.42s/it]\n",
      "\u001b[A\n",
      "\u001b[A\n",
      "100%|██████████| 234/234 [00:00<00:00, 937.29it/s]\n"
     ]
    },
    {
     "name": "stdout",
     "output_type": "stream",
     "text": [
      "1 pourbaix entries could not be analyzed in system pH:8.5|V:-1.2|V-Zn\n"
     ]
    },
    {
     "name": "stderr",
     "output_type": "stream",
     "text": [
      "100%|██████████| 253/253 [06:05<00:00,  1.44s/it]\n"
     ]
    }
   ],
   "source": [
    "%run dataframe_generation.ipynb"
   ]
  },
  {
   "cell_type": "code",
   "execution_count": 12,
   "id": "4b614b4c",
   "metadata": {
    "scrolled": false
   },
   "outputs": [
    {
     "data": {
      "image/png": "[encoded data removed]",
      "text/plain": [
       "<Figure size 864x720 with 2 Axes>"
      ]
     },
     "metadata": {
      "needs_background": "light"
     },
     "output_type": "display_data"
    }
   ],
   "source": [
    "fig, axs = plt.subplots(2, 1, figsize=(12, 10), sharex=True)\n",
    "\n",
    "ax = axs[0]\n",
    "ax.semilogy()\n",
    "plot_df = exp_df\n",
    "sns.scatterplot(\n",
    "    data=plot_df,\n",
    "    x=\"adsorption_energy_H\",\n",
    "    y=\"MaxRate\",\n",
    "    ax=ax,\n",
    "    hue=\"dominant_metal\",\n",
    "    hue_order=metal_ordering,\n",
    "    style=\"dominant_metal\",\n",
    "    style_order=metal_ordering,\n",
    "    palette=metal_color_palette,\n",
    "    s=196,\n",
    ")\n",
    "ax.set_yticks([0.3, 1, 3, 10, 30])\n",
    "ax.set_xlabel(\"\")\n",
    "ax.set_ylabel(\"\")\n",
    "ax.get_legend().remove()\n",
    "plt.xticks([-0.6, -0.4, -0.2, 0, 0.2])\n",
    "ax.tick_params(axis=\"both\", size=12, labelsize=24)\n",
    "\n",
    "ax.text(-0.32, np.exp(3.3), 'Pt', c=metal_color_palette['Pt'], fontsize=28, weight='bold', ha='center', va='center')\n",
    "ax.text(-0.21, np.exp(2.5), 'Au', c=metal_color_palette['Au'], fontsize=28, weight='bold', ha='center', va='center')\n",
    "ax.text(0.1, np.exp(2.6), 'Ag', c=metal_color_palette['Ag'], fontsize=28, weight='bold', ha='center', va='center')\n",
    "ax.text(-0.33, np.exp(2.65), 'Pd', c=metal_color_palette['Pd'], fontsize=28, weight='bold', ha='center', va='center')\n",
    "ax.text(-0.44, np.exp(2.1), 'Ni', c=metal_color_palette['Ni'], fontsize=28, weight='bold', ha='center', va='center')\n",
    "ax.text(-0.16, np.exp(1.9), 'Cu', c=metal_color_palette['Cu'], fontsize=28, weight='bold', ha='center', va='center')\n",
    "# ax.text(-0.27, 1.7, 'Co', c='blue', fontsize=28, weight='bold', ha='center', va='center')\n",
    "ax.set_xlim([-0.67, 0.2])\n",
    "ax.text(\n",
    "    -0.58,\n",
    "    np.exp(0.4),\n",
    "    \"(Fe) cut off at\\n(-0.48, -1.37)\",\n",
    "    ha=\"center\",\n",
    "    va=\"center\",\n",
    "    fontsize=18,\n",
    ")\n",
    "ax.text(\n",
    "    0.08,\n",
    "    np.exp(0),\n",
    "    \"(In) and (Pb) cut off\\nat (-0.56,-0.58)\\nand (-0.52, 0.64)\",\n",
    "    ha=\"center\",\n",
    "    va=\"center\",\n",
    "    fontsize=18,\n",
    ")\n",
    "\n",
    "\n",
    "ax = axs[1]\n",
    "ax.semilogy()\n",
    "plot_df = exp_df\n",
    "sns.scatterplot(\n",
    "    data=plot_df,\n",
    "    x=\"adsorption_energy_H\",\n",
    "    y=\"MaxRate\",\n",
    "    ax=ax,\n",
    "    hue=\"has_noble\",\n",
    "    palette=[\"black\", \"goldenrod\"],\n",
    "    style=\"has_noble\",\n",
    "    s=100,\n",
    ")\n",
    "ax.set_yticks([0.3, 1, 3, 10, 30])\n",
    "ax.set_xlabel(\"\")\n",
    "ax.set_ylabel(\"\")\n",
    "ax.get_legend().remove()\n",
    "ax.tick_params(axis=\"both\", size=12, labelsize=24)\n",
    "\n",
    "\n",
    "plt.tight_layout()\n",
    "ax.text(\n",
    "    0.41,\n",
    "    0.83,\n",
    "    \"Noble\",\n",
    "    fontsize=24,\n",
    "    fontweight=\"bold\",\n",
    "    horizontalalignment=\"center\",\n",
    "    verticalalignment=\"center\",\n",
    "    transform=ax.transAxes,\n",
    "    color=\"goldenrod\",\n",
    ")\n",
    "ax.text(\n",
    "    0.35,\n",
    "    0.5,\n",
    "    \"Base\",\n",
    "    fontsize=24,\n",
    "    fontweight=\"bold\",\n",
    "    horizontalalignment=\"center\",\n",
    "    verticalalignment=\"center\",\n",
    "    transform=ax.transAxes,\n",
    "    color=\"black\",\n",
    ")\n",
    "\n",
    "fig.supxlabel(\"Best Hydrogen Adsorption Energy / eV\", fontsize=30)\n",
    "fig.supylabel(\"Highest Hydrogen Evolution Rate / umol/hr\", fontsize=30)\n",
    "plt.tight_layout()\n",
    "fig.savefig(\"../figures/fig_4_volcano.png\", bbox_inches=\"tight\", dpi=300)\n",
    "if not showfigs:\n",
    "    plt.close(fig)"
   ]
  },
  {
   "cell_type": "code",
   "execution_count": null,
   "id": "704305eb",
   "metadata": {},
   "outputs": [],
   "source": []
  }
 ],
 "metadata": {
  "interpreter": {
   "hash": "d4d1e4263499bec80672ea0156c357c1ee493ec2b1c70f0acce89fc37c4a6abe"
  },
  "kernelspec": {
   "display_name": "Python 3.8.10 ('base')",
   "language": "python",
   "name": "python3"
  },
  "language_info": {
   "codemirror_mode": {
    "name": "ipython",
    "version": 3
   },
   "file_extension": ".py",
   "mimetype": "text/x-python",
   "name": "python",
   "nbconvert_exporter": "python",
   "pygments_lexer": "ipython3",
   "version": "3.9.13"
  }
 },
 "nbformat": 4,
 "nbformat_minor": 5
}
